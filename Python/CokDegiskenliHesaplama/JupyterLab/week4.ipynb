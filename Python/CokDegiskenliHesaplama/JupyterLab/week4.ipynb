{
 "cells": [
  {
   "cell_type": "code",
   "execution_count": 3,
   "id": "executed-obligation",
   "metadata": {},
   "outputs": [],
   "source": [
    "class Vector:\n",
    "    def __init__(self,labels,function):\n",
    "        self.D=labels\n",
    "        self.f=function\n",
    "    def create_zero_vector(V):\n",
    "        print(V)\n",
    "        f={}\n",
    "        for d in V:\n",
    "            f[d]=0\n",
    "        return Vector(V,f)\n",
    "    def setitem(V,d,value):\n",
    "        V.f[d]=value\n",
    "    def settAllitem(D,value):\n",
    "        for i in D.D:\n",
    "            D.f[i]=value\n",
    "    def printvector(V):\n",
    "        for i in V.D:\n",
    "            if i in V.f:\n",
    "                print(i,\":\",V.f[i])\n",
    "    def scalarMultiply(u,v):\n",
    "        t=0\n",
    "        for d in u.D:\n",
    "            if d in v.D:\n",
    "                try:\n",
    "                    t=t+u.f[d]*v.f[d]\n",
    "                except:\n",
    "                    t=t+0\n",
    "        return t"
   ]
  },
  {
   "cell_type": "code",
   "execution_count": 4,
   "id": "regional-discount",
   "metadata": {},
   "outputs": [
    {
     "name": "stdout",
     "output_type": "stream",
     "text": [
      "{'a', 'c', 'd', 'b'}\n",
      "{'a', 'c', 'd', 'b'}\n",
      "{'a', 'c', 'd', 'b'}\n"
     ]
    }
   ],
   "source": [
    "v1=Vector.create_zero_vector({'a','b','c','d'})\n",
    "v2=Vector.create_zero_vector({'a','b','c','d'})\n",
    "v3=Vector.create_zero_vector({'a','b','c','d'})"
   ]
  },
  {
   "cell_type": "code",
   "execution_count": 5,
   "id": "vulnerable-society",
   "metadata": {
    "tags": []
   },
   "outputs": [
    {
     "name": "stdout",
     "output_type": "stream",
     "text": [
      "a : 1\n",
      "c : 3\n",
      "d : 4\n",
      "b : 2\n"
     ]
    }
   ],
   "source": [
    "Vector.setitem(v1,'a',1)\n",
    "Vector.setitem(v1,'b',2)\n",
    "Vector.setitem(v1,'c',3)\n",
    "Vector.setitem(v1,'d',4)\n",
    "Vector.printvector(v1)"
   ]
  },
  {
   "cell_type": "code",
   "execution_count": 6,
   "id": "architectural-brazil",
   "metadata": {},
   "outputs": [
    {
     "name": "stdout",
     "output_type": "stream",
     "text": [
      "a : 10\n",
      "c : 10\n",
      "d : 10\n",
      "b : 10\n"
     ]
    }
   ],
   "source": [
    "Vector.setitem(v2,'a',10)\n",
    "Vector.setitem(v2,'b',10)\n",
    "Vector.setitem(v2,'c',10)\n",
    "Vector.setitem(v2,'d',10)\n",
    "Vector.printvector(v2)"
   ]
  },
  {
   "cell_type": "code",
   "execution_count": 7,
   "id": "regular-indian",
   "metadata": {},
   "outputs": [
    {
     "name": "stdout",
     "output_type": "stream",
     "text": [
      "a : None\n",
      "c : 3\n",
      "d : 4\n",
      "b : 2\n"
     ]
    }
   ],
   "source": [
    "Vector.setitem(v3,'a',None)\n",
    "Vector.setitem(v3,'b',2)\n",
    "Vector.setitem(v3,'c',3)\n",
    "Vector.setitem(v3,'d',4)\n",
    "Vector.printvector(v3)"
   ]
  },
  {
   "cell_type": "code",
   "execution_count": 8,
   "id": "local-underground",
   "metadata": {},
   "outputs": [
    {
     "data": {
      "text/plain": [
       "100"
      ]
     },
     "execution_count": 8,
     "metadata": {},
     "output_type": "execute_result"
    }
   ],
   "source": [
    "Vector.scalarMultiply(v1,v2)"
   ]
  },
  {
   "cell_type": "code",
   "execution_count": 9,
   "id": "interested-nickname",
   "metadata": {},
   "outputs": [
    {
     "data": {
      "text/plain": [
       "29"
      ]
     },
     "execution_count": 9,
     "metadata": {},
     "output_type": "execute_result"
    }
   ],
   "source": [
    "Vector.scalarMultiply(v1,v3)"
   ]
  },
  {
   "cell_type": "code",
   "execution_count": 10,
   "id": "dedicated-string",
   "metadata": {},
   "outputs": [],
   "source": [
    "list_1=[1,2,3,4]\n",
    "list_2=[0,2,3,4]"
   ]
  },
  {
   "cell_type": "code",
   "execution_count": 11,
   "id": "million-hammer",
   "metadata": {},
   "outputs": [
    {
     "data": {
      "text/plain": [
       "29"
      ]
     },
     "execution_count": 11,
     "metadata": {},
     "output_type": "execute_result"
    }
   ],
   "source": [
    "sml=sum([i*j for i,j in zip(list_1,list_2)])\n",
    "sml"
   ]
  },
  {
   "cell_type": "code",
   "execution_count": 12,
   "id": "friendly-swaziland",
   "metadata": {},
   "outputs": [],
   "source": [
    "u=[1,2,3,4]\n",
    "v=[2,3,4,5]\n",
    "w=[3,4,5,6]\n"
   ]
  },
  {
   "cell_type": "code",
   "execution_count": 13,
   "id": "varying-sponsorship",
   "metadata": {},
   "outputs": [
    {
     "data": {
      "text/plain": [
       "90"
      ]
     },
     "execution_count": 13,
     "metadata": {},
     "output_type": "execute_result"
    }
   ],
   "source": [
    "v_plus_w=[i+j for i,j in zip(v,w)]\n",
    "sml=sum([i*j for i,j in zip(u,v_plus_w)])\n",
    "sml"
   ]
  },
  {
   "cell_type": "markdown",
   "id": "assumed-milan",
   "metadata": {},
   "source": [
    "u(v+w)"
   ]
  },
  {
   "cell_type": "code",
   "execution_count": 14,
   "id": "composed-language",
   "metadata": {},
   "outputs": [
    {
     "data": {
      "text/plain": [
       "90"
      ]
     },
     "execution_count": 14,
     "metadata": {},
     "output_type": "execute_result"
    }
   ],
   "source": [
    "u_v=sum([i*j for i,j in zip(u,v)])\n",
    "u_w=sum([i*j for i,j in zip(u,w)])\n",
    "u_v+u_w"
   ]
  },
  {
   "cell_type": "markdown",
   "id": "twenty-exploration",
   "metadata": {},
   "source": [
    "u*V+u*w"
   ]
  },
  {
   "cell_type": "code",
   "execution_count": 15,
   "id": "sunset-rebecca",
   "metadata": {},
   "outputs": [],
   "source": [
    "import os"
   ]
  },
  {
   "cell_type": "code",
   "execution_count": 16,
   "id": "south-advantage",
   "metadata": {},
   "outputs": [
    {
     "data": {
      "text/plain": [
       "'C:\\\\Users\\\\mustafa\\\\-CokDegiskenliHesaplama'"
      ]
     },
     "execution_count": 16,
     "metadata": {},
     "output_type": "execute_result"
    }
   ],
   "source": [
    "os.getcwd()"
   ]
  },
  {
   "cell_type": "code",
   "execution_count": 17,
   "id": "friendly-latino",
   "metadata": {},
   "outputs": [
    {
     "name": "stdout",
     "output_type": "stream",
     "text": [
      "Hello hello again Welcome to demofile.txt\n",
      "\n",
      "This file is for testing purposes.\n",
      "\n",
      "Good Luck!\n",
      "\n",
      "Good day\n"
     ]
    }
   ],
   "source": [
    "f = open(\"demofile.txt\", \"r\")\n",
    "for x in f:\n",
    "    print(x)"
   ]
  },
  {
   "cell_type": "code",
   "execution_count": 18,
   "id": "virgin-string",
   "metadata": {},
   "outputs": [
    {
     "name": "stdout",
     "output_type": "stream",
     "text": [
      "['Hello', 'hello', 'again', 'Welcome', 'to', 'demofile.txt\\n']\n",
      "['This', 'file', 'is', 'for', 'testing', 'purposes.\\n']\n",
      "['Good', 'Luck!\\n']\n",
      "['Good', 'day']\n"
     ]
    }
   ],
   "source": [
    "f = open(\"demofile.txt\", \"r\")\n",
    "for x in f:\n",
    "    word_list=x.split(' ')\n",
    "    print(word_list)"
   ]
  },
  {
   "cell_type": "code",
   "execution_count": 19,
   "id": "electronic-queue",
   "metadata": {},
   "outputs": [
    {
     "data": {
      "text/plain": [
       "{'Good',\n",
       " 'Hello',\n",
       " 'Luck!\\n',\n",
       " 'This',\n",
       " 'Welcome',\n",
       " 'again',\n",
       " 'day',\n",
       " 'demofile.txt\\n',\n",
       " 'file',\n",
       " 'for',\n",
       " 'hello',\n",
       " 'is',\n",
       " 'purposes.\\n',\n",
       " 'testing',\n",
       " 'to'}"
      ]
     },
     "execution_count": 19,
     "metadata": {},
     "output_type": "execute_result"
    }
   ],
   "source": [
    "my_words=set()\n",
    "f = open(\"demofile.txt\", \"r\")\n",
    "for x in f:\n",
    "    word_list=x.split(' ')\n",
    "    for word in word_list:\n",
    "        my_words.add(word)\n",
    "D=my_words\n",
    "my_words"
   ]
  },
  {
   "cell_type": "code",
   "execution_count": 20,
   "id": "indie-lodging",
   "metadata": {},
   "outputs": [],
   "source": [
    "f={}\n",
    "file = open(\"demofile.txt\", \"r\")\n",
    "for line in file:\n",
    "    word_list=line.split(' ')\n",
    "    for word in word_list:\n",
    "        if(word in f):\n",
    "            f[word]=f[word]+1\n",
    "        else:\n",
    "            f[word]=1"
   ]
  },
  {
   "cell_type": "code",
   "execution_count": 21,
   "id": "contrary-blackberry",
   "metadata": {},
   "outputs": [
    {
     "data": {
      "text/plain": [
       "{'Hello': 1,\n",
       " 'hello': 1,\n",
       " 'again': 1,\n",
       " 'Welcome': 1,\n",
       " 'to': 1,\n",
       " 'demofile.txt\\n': 1,\n",
       " 'This': 1,\n",
       " 'file': 1,\n",
       " 'is': 1,\n",
       " 'for': 1,\n",
       " 'testing': 1,\n",
       " 'purposes.\\n': 1,\n",
       " 'Good': 2,\n",
       " 'Luck!\\n': 1,\n",
       " 'day': 1}"
      ]
     },
     "execution_count": 21,
     "metadata": {},
     "output_type": "execute_result"
    }
   ],
   "source": [
    "f"
   ]
  },
  {
   "cell_type": "code",
   "execution_count": 24,
   "id": "relevant-corporation",
   "metadata": {},
   "outputs": [],
   "source": [
    "def scalar_multiply(rowlist,x):\n",
    "    t=0\n",
    "    for i in range(len(x)):\n",
    "        t=t+rowlist[i]*x[i]\n",
    "    return t"
   ]
  },
  {
   "cell_type": "code",
   "execution_count": 56,
   "id": "abandoned-escape",
   "metadata": {},
   "outputs": [],
   "source": [
    "def triangular_solve(rowlist,b):\n",
    "    n=len(rowlist[0])\n",
    "    x=[]\n",
    "    for i in range (n):\n",
    "        x.append(0)\n",
    "        \n",
    "    \n",
    "    for i in reversed(range(n)):\n",
    "        x[i]=(b[i]-scalar_multiply(rowlist[i],x))/rowlist[i][i] # scalar_multiply(rowlist[i],x) \n",
    "        print(x)\n",
    "    return x"
   ]
  },
  {
   "cell_type": "markdown",
   "id": "pending-seating",
   "metadata": {},
   "source": [
    "scalar_multiply(rowlist[i],x) komutu ile önce [0, 0, 0, 2] ve [0, 0, 0, 0] değerleri gider scalar çarpımı yapılır. scalar çarpım fonksiyonunda t=t+rowlist[i]*x[i] komutu ile toplam değer geri döndürülür.b=[-8,3,-4,6]\n",
    "Dönen toplam değer önce i=3 için [0, 0, 0, 2] i inci değere göre çıkarılır. b[3]=6  - scalar_multiply(rowlist[3],x) = 0  6-0=6   6 / rowlist[3][3] > 6/2=3 olur. x[3]=3 olur yani x [0, 0, 0, 3.0]\n",
    "yukarıda belirtilen işlem tüm rowlistte uygulanır.\n",
    "[0, 0, 0, 2]    x [0, 0, 0, 0]           = 0 \n",
    "[0, 0, 1, 5]    x [0, 0, 0, 3.0]         = 15.0\n",
    "[0, 3, 3, 2]    x [0, 0, -19.0, 3.0]     = -51.0\n",
    "[1, 0.5, -2, 4] x [0, 18.0, -19.0, 3.0]  = 59.0\n",
    "en son x değişkeni bu şekilde olur  [-67.0, 18.0, -19.0, 3.0]"
   ]
  },
  {
   "cell_type": "code",
   "execution_count": 57,
   "id": "eight-enemy",
   "metadata": {},
   "outputs": [
    {
     "data": {
      "text/plain": [
       "[[1, 0.5, -2, 4], [0, 3, 3, 2], [0, 0, 1, 5], [0, 0, 0, 2]]"
      ]
     },
     "execution_count": 57,
     "metadata": {},
     "output_type": "execute_result"
    }
   ],
   "source": [
    "r_1=[1,0.5,-2,4]\n",
    "r_2=[0,3,3,2]\n",
    "r_3=[0,0,1,5]\n",
    "r_4=[0,0,0,2]\n",
    "rowlist=[r_1,r_2,r_3,r_4]\n",
    "b=[-8,3,-4,6]\n",
    "rowlist"
   ]
  },
  {
   "cell_type": "code",
   "execution_count": 58,
   "id": "aboriginal-certification",
   "metadata": {},
   "outputs": [
    {
     "name": "stdout",
     "output_type": "stream",
     "text": [
      "[0, 0, 0, 3.0]\n",
      "[0, 0, -19.0, 3.0]\n",
      "[0, 18.0, -19.0, 3.0]\n",
      "[-67.0, 18.0, -19.0, 3.0]\n"
     ]
    },
    {
     "data": {
      "text/plain": [
       "[-67.0, 18.0, -19.0, 3.0]"
      ]
     },
     "execution_count": 58,
     "metadata": {},
     "output_type": "execute_result"
    }
   ],
   "source": [
    "triangular_solve(rowlist,b)"
   ]
  },
  {
   "cell_type": "code",
   "execution_count": null,
   "id": "fifteen-parent",
   "metadata": {},
   "outputs": [],
   "source": []
  }
 ],
 "metadata": {
  "kernelspec": {
   "display_name": "Python 3",
   "language": "python",
   "name": "python3"
  },
  "language_info": {
   "codemirror_mode": {
    "name": "ipython",
    "version": 3
   },
   "file_extension": ".py",
   "mimetype": "text/x-python",
   "name": "python",
   "nbconvert_exporter": "python",
   "pygments_lexer": "ipython3",
   "version": "3.9.0"
  }
 },
 "nbformat": 4,
 "nbformat_minor": 5
}
