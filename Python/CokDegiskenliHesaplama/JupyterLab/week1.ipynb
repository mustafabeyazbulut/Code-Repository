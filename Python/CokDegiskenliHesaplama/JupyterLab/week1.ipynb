{
 "cells": [
  {
   "cell_type": "code",
   "execution_count": 3,
   "id": "presidential-setting",
   "metadata": {},
   "outputs": [],
   "source": [
    "v_1=[1,2,3,4]\n",
    "v_2=[12,22,13,47]\n",
    "def my_f_1(v1,v2):\n",
    "    k=len(v1)\n",
    "    v3=[0]*k\n",
    "    for i in range(k):\n",
    "        v3[i]=v1[i]+v2[i]\n",
    "    return v3"
   ]
  },
  {
   "cell_type": "code",
   "execution_count": 4,
   "id": "smart-alfred",
   "metadata": {},
   "outputs": [
    {
     "name": "stdout",
     "output_type": "stream",
     "text": [
      "v1= [1, 2, 3, 4]\n",
      "v2= [12, 22, 13, 47]\n",
      "v3= [13, 24, 16, 51]\n"
     ]
    }
   ],
   "source": [
    "print (\"v1=\",v_1)\n",
    "print (\"v2=\",v_2)\n",
    "print(\"v3=\",my_f_1(v_1,v_2))"
   ]
  },
  {
   "cell_type": "code",
   "execution_count": 5,
   "id": "marine-smile",
   "metadata": {},
   "outputs": [
    {
     "data": {
      "text/plain": [
       "[13, 24, 16, 51]"
      ]
     },
     "execution_count": 5,
     "metadata": {},
     "output_type": "execute_result"
    }
   ],
   "source": [
    "def add_vec(v1,v2): # aynı boyuttaki dizileri toplayan fonkisyon\n",
    "    return [x+y for (x,y) in zip(v1,v2)]\n",
    "add_vec(v_1,v_2)"
   ]
  },
  {
   "cell_type": "code",
   "execution_count": 6,
   "id": "touched-course",
   "metadata": {},
   "outputs": [
    {
     "data": {
      "text/plain": [
       "[2, 4, 6, 8]"
      ]
     },
     "execution_count": 6,
     "metadata": {},
     "output_type": "execute_result"
    }
   ],
   "source": [
    "def multiply_scalar(v1,alpha): #vektörü skalerle çarpma\n",
    "    return[x*alpha for x in v1] # v1 matrisinin tüm elemanlarını alpha değişkeniyle çarparak yeni değerleri fonksiyona geri döndürüyor.\n",
    "multiply_scalar(v_1,2) #v_1 i 2 ile çarptı\n"
   ]
  },
  {
   "cell_type": "code",
   "execution_count": 7,
   "id": "motivated-wound",
   "metadata": {},
   "outputs": [
    {
     "data": {
      "text/plain": [
       "[12, 24, 36, 48]"
      ]
     },
     "execution_count": 7,
     "metadata": {},
     "output_type": "execute_result"
    }
   ],
   "source": [
    "def my_f_5(v1,alpha,v2,beta): #alpha*v1+beta*v2 \n",
    "    v1_1=multiply_scalar(v1,alpha) # fonksiyona gelen alpha değerini v1 dizisi ile scalar çarpımı için multiply_scalar fonkisyonuna göndererek gelen değeri v1_1 dizisine atıyor\n",
    "    v2_1=multiply_scalar(v2,beta) # fonksiyona gelen beta değerini v2 dizisi ile scalar çarpımı için multiply_scalar fonkisyonuna göndererek gelen değeri v2_1 dizisine atıyor\n",
    "    return add_vec(v1_1,v2_1) # v1_1 ve v2_2 dizilerini add_vec isimli fonksiyona göndererek toplama işlemini gerçekleştirerek fonksiyonun çağrıldığı yere yeni diziyi döndürüyor.\n",
    "v_1=[1,2,3,4] \n",
    "v_2=[5,10,15,20]\n",
    "my_f_5(v_1,2,v_2,2)\n"
   ]
  },
  {
   "cell_type": "code",
   "execution_count": 8,
   "id": "invisible-brush",
   "metadata": {},
   "outputs": [],
   "source": [
    "h={1:['1',2,'3'],2:['1',22,'33']}"
   ]
  },
  {
   "cell_type": "code",
   "execution_count": 9,
   "id": "transsexual-entrance",
   "metadata": {},
   "outputs": [
    {
     "name": "stdout",
     "output_type": "stream",
     "text": [
      "1 2 3 \n",
      "1 22 33 \n",
      "['1', 2, '3']\n",
      "['1', 22, '33']\n"
     ]
    }
   ],
   "source": [
    "for key in h.keys():\n",
    "    for key1 in range(len(h[key])):\n",
    "        print(h[key][key1],end=\" \")\n",
    "    print()\n",
    "    \n",
    "for key in h.keys():\n",
    "    print(h[key])\n"
   ]
  },
  {
   "cell_type": "code",
   "execution_count": 10,
   "id": "upset-sheep",
   "metadata": {},
   "outputs": [],
   "source": [
    "v3={1:10,2:20,3:30,4:40}\n"
   ]
  },
  {
   "cell_type": "code",
   "execution_count": 11,
   "id": "charged-mercy",
   "metadata": {},
   "outputs": [
    {
     "name": "stdout",
     "output_type": "stream",
     "text": [
      "10\n",
      "20\n",
      "30\n",
      "40\n"
     ]
    }
   ],
   "source": [
    "for key in v3.keys():\n",
    "    print(v3[key])\n"
   ]
  },
  {
   "cell_type": "code",
   "execution_count": 12,
   "id": "indian-plaza",
   "metadata": {},
   "outputs": [],
   "source": [
    "d1={'a','b','c','d'}"
   ]
  },
  {
   "cell_type": "code",
   "execution_count": 13,
   "id": "typical-wound",
   "metadata": {},
   "outputs": [
    {
     "data": {
      "text/plain": [
       "(set, {'a', 'b', 'c', 'd'})"
      ]
     },
     "execution_count": 13,
     "metadata": {},
     "output_type": "execute_result"
    }
   ],
   "source": [
    "type(d1),d1"
   ]
  },
  {
   "cell_type": "code",
   "execution_count": 14,
   "id": "lonely-nutrition",
   "metadata": {},
   "outputs": [],
   "source": [
    "f1={'a':1,'b':3}"
   ]
  },
  {
   "cell_type": "code",
   "execution_count": 15,
   "id": "previous-jordan",
   "metadata": {},
   "outputs": [
    {
     "data": {
      "text/plain": [
       "({'a', 'b', 'c', 'd'}, {'a': 1, 'b': 3})"
      ]
     },
     "execution_count": 15,
     "metadata": {},
     "output_type": "execute_result"
    }
   ],
   "source": [
    "v10=(d1,f1) #tuple\n",
    "v10"
   ]
  },
  {
   "cell_type": "code",
   "execution_count": 16,
   "id": "familiar-salad",
   "metadata": {},
   "outputs": [
    {
     "data": {
      "text/plain": [
       "{'D': {'a', 'b', 'c', 'd'}, 'F': {'a': 1, 'b': 3}}"
      ]
     },
     "execution_count": 16,
     "metadata": {},
     "output_type": "execute_result"
    }
   ],
   "source": [
    "v10={'D':d1,'F':f1}\n",
    "v10"
   ]
  },
  {
   "cell_type": "code",
   "execution_count": 17,
   "id": "optical-things",
   "metadata": {},
   "outputs": [
    {
     "data": {
      "text/plain": [
       "dict_keys(['D', 'F'])"
      ]
     },
     "execution_count": 17,
     "metadata": {},
     "output_type": "execute_result"
    }
   ],
   "source": [
    "v10.keys()"
   ]
  },
  {
   "cell_type": "code",
   "execution_count": 18,
   "id": "historical-investing",
   "metadata": {},
   "outputs": [],
   "source": [
    "class Vector: # yeni dict vector oluşturma sınıfı\n",
    "    def __init__(self,labels,function):\n",
    "        self.D=labels\n",
    "        self.f=function\n"
   ]
  },
  {
   "cell_type": "code",
   "execution_count": 26,
   "id": "unavailable-package",
   "metadata": {},
   "outputs": [],
   "source": [
    "labels={'A','B','C'}\n",
    "function={'A':1,'B':2}\n",
    "v=Vector(labels,function) ^#v değişkeni üzerine labels ve function değerleri ile yeni dic vectör oluşturur."
   ]
  },
  {
   "cell_type": "code",
   "execution_count": 27,
   "id": "accredited-latest",
   "metadata": {},
   "outputs": [
    {
     "data": {
      "text/plain": [
       "<__main__.Vector at 0x21b74f1e970>"
      ]
     },
     "execution_count": 27,
     "metadata": {},
     "output_type": "execute_result"
    }
   ],
   "source": [
    "v"
   ]
  },
  {
   "cell_type": "code",
   "execution_count": 52,
   "id": "mental-winter",
   "metadata": {},
   "outputs": [
    {
     "name": "stdout",
     "output_type": "stream",
     "text": [
      "d : 10\n",
      "c : 0\n",
      "b : 0\n",
      "a : 0\n"
     ]
    }
   ],
   "source": [
    "for d in v.D: # vektördeki değerleri yazdırır\n",
    "    if d in v.f:\n",
    "        print(d,\":\",v.f[d])"
   ]
  },
  {
   "cell_type": "code",
   "execution_count": 35,
   "id": "egyptian-angola",
   "metadata": {},
   "outputs": [],
   "source": [
    "def create_zero_vector(D): #boş vektor oluşturan fonksiyon\n",
    "    f={}\n",
    "    for d in D:\n",
    "        f[d]=0\n",
    "    return Vector(D,f)\n"
   ]
  },
  {
   "cell_type": "code",
   "execution_count": 36,
   "id": "extensive-binding",
   "metadata": {},
   "outputs": [
    {
     "data": {
      "text/plain": [
       "<__main__.Vector at 0x21b74e67bb0>"
      ]
     },
     "execution_count": 36,
     "metadata": {},
     "output_type": "execute_result"
    }
   ],
   "source": [
    "v=create_zero_vector({'a','b','c','d'})\n",
    "v"
   ]
  },
  {
   "cell_type": "code",
   "execution_count": 40,
   "id": "legitimate-endorsement",
   "metadata": {},
   "outputs": [
    {
     "name": "stdout",
     "output_type": "stream",
     "text": [
      "d 10\n",
      "c 0\n",
      "b 0\n",
      "a 0\n"
     ]
    }
   ],
   "source": [
    "for d in v.D:\n",
    "    if d in v.f:\n",
    "        print(d,v.f[d])\n"
   ]
  },
  {
   "cell_type": "code",
   "execution_count": 38,
   "id": "extraordinary-boutique",
   "metadata": {},
   "outputs": [],
   "source": [
    "def setitem(V,d,val): # fonksiyona gelen vektor içndeki değerleri değiştirir.\n",
    "    V.f[d]=val\n",
    "setitem(v,'d',10)\n"
   ]
  },
  {
   "cell_type": "code",
   "execution_count": 51,
   "id": "greenhouse-mumbai",
   "metadata": {},
   "outputs": [],
   "source": [
    "def multiply_scaler_vector(V,alpha): # vektörün scaler ile çarpımı\n",
    "    for i in V.D:\n",
    "        V.f[i]*=2"
   ]
  },
  {
   "cell_type": "code",
   "execution_count": 68,
   "id": "after-government",
   "metadata": {},
   "outputs": [],
   "source": [
    "ab=create_zero_vector({'a','b'})\n",
    "ab2=create_zero_vector({'a','b'})\n",
    "\n",
    "setitem(ab,'a',10)\n",
    "setitem(ab,'b',410)\n",
    "setitem(ab2,'a',15)\n",
    "setitem(ab2,'b',19)"
   ]
  },
  {
   "cell_type": "code",
   "execution_count": 75,
   "id": "isolated-tiffany",
   "metadata": {},
   "outputs": [
    {
     "data": {
      "text/plain": [
       "{'b': 19, 'a': 15}"
      ]
     },
     "execution_count": 75,
     "metadata": {},
     "output_type": "execute_result"
    }
   ],
   "source": [
    "ab2.f"
   ]
  },
  {
   "cell_type": "code",
   "execution_count": 86,
   "id": "frequent-shelter",
   "metadata": {},
   "outputs": [],
   "source": [
    "def add_vector2(v1,v2): # aynı değerlerde iki vektorun toplamı\n",
    "    v4={}\n",
    "    for i in v1.D:\n",
    "        if i in v1.f:\n",
    "            v4[i]=v1.f[i]+v2.f[i]\n",
    "    return v4"
   ]
  },
  {
   "cell_type": "code",
   "execution_count": 88,
   "id": "representative-tragedy",
   "metadata": {},
   "outputs": [
    {
     "data": {
      "text/plain": [
       "{'b': 429, 'a': 25}"
      ]
     },
     "execution_count": 88,
     "metadata": {},
     "output_type": "execute_result"
    }
   ],
   "source": [
    "ab3=add_vector2(ab,ab2)\n",
    "ab3"
   ]
  },
  {
   "cell_type": "code",
   "execution_count": null,
   "id": "joined-anatomy",
   "metadata": {},
   "outputs": [],
   "source": []
  }
 ],
 "metadata": {
  "kernelspec": {
   "display_name": "Python 3",
   "language": "python",
   "name": "python3"
  },
  "language_info": {
   "codemirror_mode": {
    "name": "ipython",
    "version": 3
   },
   "file_extension": ".py",
   "mimetype": "text/x-python",
   "name": "python",
   "nbconvert_exporter": "python",
   "pygments_lexer": "ipython3",
   "version": "3.9.0"
  }
 },
 "nbformat": 4,
 "nbformat_minor": 5
}
