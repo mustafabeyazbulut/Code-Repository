{
 "cells": [
  {
   "cell_type": "code",
   "execution_count": 18,
   "id": "embedded-seeker",
   "metadata": {},
   "outputs": [],
   "source": [
    "from sympy import Symbol,factor,expand,pprint"
   ]
  },
  {
   "cell_type": "code",
   "execution_count": 19,
   "id": "minus-discrimination",
   "metadata": {},
   "outputs": [],
   "source": [
    "x=Symbol('x')\n",
    "y=Symbol('y')"
   ]
  },
  {
   "cell_type": "code",
   "execution_count": 20,
   "id": "received-finnish",
   "metadata": {},
   "outputs": [
    {
     "data": {
      "text/latex": [
       "$\\displaystyle 2 x^{2}$"
      ],
      "text/plain": [
       "2*x**2"
      ]
     },
     "execution_count": 20,
     "metadata": {},
     "output_type": "execute_result"
    }
   ],
   "source": [
    "p=x*(x+x)\n",
    "p"
   ]
  },
  {
   "cell_type": "code",
   "execution_count": 41,
   "id": "breeding-prague",
   "metadata": {},
   "outputs": [
    {
     "name": "stdout",
     "output_type": "stream",
     "text": [
      "(x + 2)⋅(x + 3)\n"
     ]
    },
    {
     "data": {
      "text/latex": [
       "$\\displaystyle x^{2} + 5 x + 6$"
      ],
      "text/plain": [
       "x**2 + 5*x + 6"
      ]
     },
     "execution_count": 41,
     "metadata": {},
     "output_type": "execute_result"
    }
   ],
   "source": [
    "p=(x+2)*(x+3)\n",
    "pprint(p)\n",
    "expand(p)"
   ]
  },
  {
   "cell_type": "markdown",
   "id": "intermediate-small",
   "metadata": {},
   "source": [
    "Yukarıda (x+2)*(x+3) ifadesinde p değişkenine 𝑥2+5𝑥+6 çıktısını vermesini bekledik fakat geniş ifadelerde bunu aynı şekilde çıktısını verir.\n",
    "İfadeyi çarparak çıkarmak istiyorsak expand () işlevini kullanmamız gerekir."
   ]
  },
  {
   "cell_type": "code",
   "execution_count": 35,
   "id": "consistent-intake",
   "metadata": {},
   "outputs": [],
   "source": [
    "expr=x**2-y**2\n",
    "factors=factor(expr) # expr değişkenini çarpanlarına ayırıyor\n",
    "expands=expand(factors) # factors değişkenini genişletiyor"
   ]
  },
  {
   "cell_type": "markdown",
   "id": "consecutive-margin",
   "metadata": {},
   "source": [
    "Yukarıda expr değişkenini factor komutu ile faktörlerine ayırdık ve daha sonra bunu factors değişkenine atadık.\n",
    "Factors değişkenini tekrardan genişleterek eski haline çevirdik."
   ]
  },
  {
   "cell_type": "code",
   "execution_count": 33,
   "id": "anonymous-mumbai",
   "metadata": {},
   "outputs": [
    {
     "data": {
      "text/plain": [
       "((x - y)*(x + y), x**2 - y**2)"
      ]
     },
     "execution_count": 33,
     "metadata": {},
     "output_type": "execute_result"
    }
   ],
   "source": [
    "factors,expands # factors ve expands değişkenini yazdırarak çıktıları karşılaştırıyoruz."
   ]
  },
  {
   "cell_type": "code",
   "execution_count": 48,
   "id": "signed-sauce",
   "metadata": {},
   "outputs": [],
   "source": [
    "def print_series(series,n):\n",
    "    for i in range(2,n+1):\n",
    "        series=series+(x**i)/i\n",
    "    return series"
   ]
  },
  {
   "cell_type": "markdown",
   "id": "indirect-impact",
   "metadata": {},
   "source": [
    "Yukarıdaki fonksiyona gönderilen sembol nesnesi ve n değerini alarak, 2 den n e kadar olan sayıları x+x**2/2....... x**n/n e kadar olacak şekilde yazdıran fonksiyon"
   ]
  },
  {
   "cell_type": "code",
   "execution_count": 51,
   "id": "sublime-press",
   "metadata": {},
   "outputs": [
    {
     "data": {
      "text/latex": [
       "$\\displaystyle \\frac{x^{5}}{5} + \\frac{x^{4}}{4} + \\frac{x^{3}}{3} + \\frac{x^{2}}{2} + x$"
      ],
      "text/plain": [
       "x**5/5 + x**4/4 + x**3/3 + x**2/2 + x"
      ]
     },
     "execution_count": 51,
     "metadata": {},
     "output_type": "execute_result"
    }
   ],
   "source": [
    "print_series(x,5)"
   ]
  },
  {
   "cell_type": "code",
   "execution_count": 63,
   "id": "everyday-better",
   "metadata": {},
   "outputs": [
    {
     "name": "stdout",
     "output_type": "stream",
     "text": [
      " 2            2\n",
      "x  + 2⋅x⋅y + y \n",
      "9\n",
      " 2                        2\n",
      "y  + 2⋅y⋅(1 - y) + (1 - y) \n"
     ]
    }
   ],
   "source": [
    "expr=x*x+x*y+x*y+y*y\n",
    "pprint (expr)\n",
    "res=expr.subs({x:1,y:2})\n",
    "pprint(res)\n",
    "r=expr.subs({x:1-y})\n",
    "pprint(r)"
   ]
  },
  {
   "cell_type": "markdown",
   "id": "stupid-superior",
   "metadata": {},
   "source": [
    "subs() methodu , ifade de yer alan sembollere atanan değerlere göre ifadedeki işlemi yerine getirir. Yukarıda x1 ve y2 değeri için  x*x+x*y+x*y+y*y ifadesi hesaplanmıştır."
   ]
  },
  {
   "cell_type": "code",
   "execution_count": null,
   "id": "becoming-brooklyn",
   "metadata": {},
   "outputs": [],
   "source": []
  }
 ],
 "metadata": {
  "kernelspec": {
   "display_name": "Python 3",
   "language": "python",
   "name": "python3"
  },
  "language_info": {
   "codemirror_mode": {
    "name": "ipython",
    "version": 3
   },
   "file_extension": ".py",
   "mimetype": "text/x-python",
   "name": "python",
   "nbconvert_exporter": "python",
   "pygments_lexer": "ipython3",
   "version": "3.9.0"
  }
 },
 "nbformat": 4,
 "nbformat_minor": 5
}
