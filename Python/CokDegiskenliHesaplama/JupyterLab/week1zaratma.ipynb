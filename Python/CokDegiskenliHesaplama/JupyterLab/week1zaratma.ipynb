{
 "cells": [
  {
   "cell_type": "code",
   "execution_count": 4,
   "id": "comic-arrangement",
   "metadata": {},
   "outputs": [
    {
     "data": {
      "text/plain": [
       "([1, 2, 3, 4, 5, 6],\n",
       " [0.16666666666666666,\n",
       "  0.16666666666666666,\n",
       "  0.16666666666666666,\n",
       "  0.16666666666666666,\n",
       "  0.16666666666666666,\n",
       "  0.16666666666666666])"
      ]
     },
     "execution_count": 4,
     "metadata": {},
     "output_type": "execute_result"
    }
   ],
   "source": [
    "z_1=[1,2,3,4,5,6] #\n",
    "z_2=[1/6,1/6,1/6,1/6,1/6,1/6,]\n",
    "z_1,z_2"
   ]
  },
  {
   "cell_type": "markdown",
   "id": "lesser-sellers",
   "metadata": {},
   "source": [
    "Yukarıda liste şeklinde zar olasılığı ihtimaline göre vektor oluşturduk"
   ]
  },
  {
   "cell_type": "code",
   "execution_count": 1,
   "id": "satisfactory-revolution",
   "metadata": {},
   "outputs": [],
   "source": [
    "class Vector:\n",
    "    def __init__(self,labels,function):\n",
    "        self.D=labels\n",
    "        self.f=function\n",
    "    def create_zero_vector(V):\n",
    "        f={}\n",
    "        for d in V:\n",
    "            f[d]=0\n",
    "        return Vector(V,f)\n",
    "    def setitem(V,d,value):\n",
    "        V.f[d]=value\n",
    "    def settAllitem(D,value):\n",
    "        for i in D.D:\n",
    "            D.f[i]=value\n",
    "    def printvector(V):\n",
    "        for i in V.D:\n",
    "            if i in V.f:\n",
    "                print(i,\":\",V.f[i])"
   ]
  },
  {
   "cell_type": "markdown",
   "id": "broadband-newark",
   "metadata": {},
   "source": [
    "Yukarıda vector sınıfı içerisine, boş vektor oluşturma ,vektore değer atama ve yazdırma fonksiyonları tanımladık."
   ]
  },
  {
   "cell_type": "code",
   "execution_count": 8,
   "id": "mysterious-department",
   "metadata": {},
   "outputs": [
    {
     "name": "stdout",
     "output_type": "stream",
     "text": [
      "2 : 0.16666666666666666\n",
      "4 : 0.16666666666666666\n",
      "5 : 0.16666666666666666\n",
      "6 : 0.16666666666666666\n",
      "3 : 0.16666666666666666\n",
      "1 : 0.16666666666666666\n",
      "\n",
      "2 : 0.16666666666666666\n",
      "4 : 0.16666666666666666\n",
      "5 : 0.16666666666666666\n",
      "6 : 0.16666666666666666\n",
      "3 : 0.16666666666666666\n",
      "1 : 0.16666666666666666\n"
     ]
    }
   ],
   "source": [
    "labels={'1','2','3','4','5','6'}\n",
    "function={'1':1/6,'2':1/6,'3':1/6,'4':1/6,'5':1/6,'6':1/6}\n",
    "zar1=Vector(labels,function)\n",
    "zar=Vector.create_zero_vector({'1','2','3','4','5','6'})\n",
    "Vector.settAllitem(zar,(1/6))\n",
    "Vector.printvector(zar)\n",
    "print()\n",
    "Vector.printvector(zar1)"
   ]
  },
  {
   "cell_type": "markdown",
   "id": "earned-robert",
   "metadata": {},
   "source": [
    "Vektör sınıfı içerisinde yer alan fonksiyonları kullanarak zar olasığını dict yapısı ile vektor tanımını yaptık"
   ]
  }
 ],
 "metadata": {
  "kernelspec": {
   "display_name": "Python 3",
   "language": "python",
   "name": "python3"
  },
  "language_info": {
   "codemirror_mode": {
    "name": "ipython",
    "version": 3
   },
   "file_extension": ".py",
   "mimetype": "text/x-python",
   "name": "python",
   "nbconvert_exporter": "python",
   "pygments_lexer": "ipython3",
   "version": "3.9.0"
  }
 },
 "nbformat": 4,
 "nbformat_minor": 5
}
