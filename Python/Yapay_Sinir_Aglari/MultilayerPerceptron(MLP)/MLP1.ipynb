{
  "cells": [
    {
      "cell_type": "code",
      "execution_count": null,
      "metadata": {
        "id": "5PrdeANbOk_T"
      },
      "outputs": [],
      "source": [
        "import pandas as pd\n",
        "import torch\n",
        "from torch.utils.data import Dataset, DataLoader\n",
        "import datetime"
      ]
    },
    {
      "cell_type": "code",
      "source": [
        "# cuda ile çalışıyorsa true döner aksi durumda false\n",
        "torch.cuda.is_available()"
      ],
      "metadata": {
        "colab": {
          "base_uri": "https://localhost:8080/"
        },
        "id": "G8svv5BDx8UD",
        "outputId": "357993d6-7bd7-4c50-b221-d1fedbc02a4a"
      },
      "execution_count": null,
      "outputs": [
        {
          "output_type": "execute_result",
          "data": {
            "text/plain": [
              "True"
            ]
          },
          "metadata": {},
          "execution_count": 2
        }
      ]
    },
    {
      "cell_type": "code",
      "source": [
        "from google.colab import drive\n",
        "drive.mount(\"/content/drive\")"
      ],
      "metadata": {
        "colab": {
          "base_uri": "https://localhost:8080/"
        },
        "id": "xGxtVA0wFmI7",
        "outputId": "99cffd57-8b11-4ced-d242-94cc31fa752d"
      },
      "execution_count": null,
      "outputs": [
        {
          "output_type": "stream",
          "name": "stdout",
          "text": [
            "Drive already mounted at /content/drive; to attempt to forcibly remount, call drive.mount(\"/content/drive\", force_remount=True).\n"
          ]
        }
      ]
    },
    {
      "cell_type": "code",
      "execution_count": null,
      "metadata": {
        "id": "RYLC4LaV5HJl"
      },
      "outputs": [],
      "source": [
        "firstRunTime=datetime.datetime.now()"
      ]
    },
    {
      "cell_type": "code",
      "execution_count": null,
      "metadata": {
        "id": "bBGhdiG5OmNF"
      },
      "outputs": [],
      "source": [
        "# Veri setlerini yükleme\n",
        "train_df  = pd.read_csv('/content/drive/MyDrive/Colab Notebooks/Csv/cure_the_princess_train.csv')\n",
        "val_df = pd.read_csv('/content/drive/MyDrive/Colab Notebooks/Csv/cure_the_princess_validation.csv')\n",
        "test_df  = pd.read_csv('/content/drive/MyDrive/Colab Notebooks/Csv/cure_the_princess_test.csv')"
      ]
    },
    {
      "cell_type": "code",
      "execution_count": null,
      "metadata": {
        "id": "lm0BDQc7Ono5"
      },
      "outputs": [],
      "source": [
        "# Veri setlerini işleme için sınıf oluşturuyoruz\n",
        "class MyDataset(Dataset):\n",
        "    def __init__(self, df):\n",
        "        self.inputs = df.drop('Cured', axis=1).values\n",
        "        self.labels = df['Cured'].values\n",
        "        \n",
        "    def __len__(self):\n",
        "        return len(self.labels)\n",
        "        \n",
        "    def __getitem__(self, idx):\n",
        "        return torch.tensor(self.inputs[idx], dtype=torch.float), torch.tensor(self.labels[idx], dtype=torch.long)"
      ]
    },
    {
      "cell_type": "code",
      "execution_count": null,
      "metadata": {
        "id": "u3q1EjMBOqW4"
      },
      "outputs": [],
      "source": [
        "train_dataset = MyDataset(train_df)\n",
        "val_dataset = MyDataset(val_df)\n",
        "test_dataset = MyDataset(test_df)"
      ]
    },
    {
      "cell_type": "code",
      "execution_count": null,
      "metadata": {
        "id": "eSercYdDPq4T"
      },
      "outputs": [],
      "source": [
        "batch_size = 16"
      ]
    },
    {
      "cell_type": "code",
      "execution_count": null,
      "metadata": {
        "id": "Ng5_3kLjPt0J"
      },
      "outputs": [],
      "source": [
        "train_loader = DataLoader(train_dataset, batch_size=batch_size, shuffle=True)\n",
        "val_loader = DataLoader(val_dataset, batch_size=batch_size)\n",
        "test_loader = DataLoader(test_dataset, batch_size=batch_size)"
      ]
    },
    {
      "cell_type": "code",
      "execution_count": null,
      "metadata": {
        "id": "TCda2yKKPwki"
      },
      "outputs": [],
      "source": [
        "#Model oluşturuyoruz\n",
        "import torch.nn as nn\n",
        "\n",
        "class MLP(nn.Module):\n",
        "    def __init__(self, input_size, hidden_size1, hidden_size2, output_size):\n",
        "        super(MLP, self).__init__()\n",
        "        self.fc1 = nn.Linear(input_size, hidden_size1)\n",
        "        self.fc2 = nn.Linear(hidden_size1, hidden_size2)\n",
        "        self.fc3 = nn.Linear(hidden_size2, output_size)\n",
        "        self.relu = nn.ReLU()\n",
        "        self.sigmoid = nn.Sigmoid()\n",
        "\n",
        "    def forward(self, x):\n",
        "        out = self.fc1(x)\n",
        "        out = self.relu(out)\n",
        "        out = self.fc2(out)\n",
        "        out = self.relu(out)\n",
        "        out = self.fc3(out)\n",
        "        out = self.sigmoid(out)\n",
        "        return out"
      ]
    },
    {
      "cell_type": "code",
      "execution_count": null,
      "metadata": {
        "id": "z_TCx5-9QNRa"
      },
      "outputs": [],
      "source": [
        "input_size=len(train_df.columns) - 1\n",
        "hidden_size1=100\n",
        "hidden_size2=50\n",
        "output_size=len(train_df['Cured'].unique())\n",
        "\n",
        "device = torch.device(\"cuda:0\" if torch.cuda.is_available() else \"cpu\")\n",
        "model = MLP(input_size, hidden_size1, hidden_size2, output_size).to(device)"
      ]
    },
    {
      "cell_type": "code",
      "execution_count": null,
      "metadata": {
        "id": "cAzUYur4Pzgs"
      },
      "outputs": [],
      "source": [
        "#Loss fonksiyonu belirliyoruz\n",
        "criterion = nn.CrossEntropyLoss()\n",
        "\n",
        "#Optimizasyon yöntemi ve parametreleri belirliyoruz\n",
        "optimizer = torch.optim.SGD(model.parameters(), lr=0.01)"
      ]
    },
    {
      "cell_type": "code",
      "source": [
        "class EarlyStopping:\n",
        "    def __init__(self, patience=7, delta=0, verbose=False, path='checkpoint.pt', trace_func=print):\n",
        "        # patience: epoch sayısı - eğer bu sayı boyunca validation loss değeri artarsa eğitim durdurulur\n",
        "        self.patience = patience\n",
        "        # delta: validation loss'da önemsiz değişiklikler olarak kabul edilebilecek değer aralığı\n",
        "        self.delta = delta\n",
        "        # verbose: kaydedilen checkpoint'ların detaylı loglarının ekrana yazdırılıp yazdırılmayacağı\n",
        "        self.verbose = verbose\n",
        "        # path: kaydedilen checkpoint'ların kaydedileceği dosya yolu ve ismi\n",
        "        self.path = path\n",
        "         # trace_func: eğitim sırasında logların yazdırılacağı çıktı fonksiyonu\n",
        "        self.trace_func = trace_func\n",
        "        self.counter = 0\n",
        "        self.best_score = None\n",
        "        self.early_stop = False\n",
        "\n",
        "    def __call__(self, val_loss, model):\n",
        "        # eğitim sırasında her epoch sonunda çağrılır\n",
        "        score = -val_loss\n",
        "\n",
        "        if self.best_score is None:\n",
        "            self.best_score = score\n",
        "            self.save_checkpoint(val_loss, model)\n",
        "        elif score < self.best_score + self.delta:\n",
        "            self.counter += 1\n",
        "            self.trace_func(f'EarlyStopping counter: {self.counter} out of {self.patience}')\n",
        "            if self.counter >= self.patience:\n",
        "                self.early_stop = True\n",
        "        else:\n",
        "            self.best_score = score\n",
        "            self.save_checkpoint(val_loss, model)\n",
        "            self.counter = 0\n",
        "\n",
        "    def save_checkpoint(self, val_loss, model):\n",
        "        # modeli kaydeder ve kaydedilen checkpoint'ın loglarını yazdırır\n",
        "        if self.verbose:\n",
        "            self.trace_func(f'Validation loss decreased ({self.best_score:.6f} --> {val_loss:.6f}).  Saving model ...')\n",
        "        torch.save(model.state_dict(), self.path)"
      ],
      "metadata": {
        "id": "vl-Df9lugY1s"
      },
      "execution_count": null,
      "outputs": []
    },
    {
      "cell_type": "code",
      "execution_count": null,
      "metadata": {
        "colab": {
          "base_uri": "https://localhost:8080/"
        },
        "id": "a63EjEmcP3Zq",
        "outputId": "912fce49-1079-4b97-865a-b092015fd046"
      },
      "outputs": [
        {
          "output_type": "stream",
          "name": "stdout",
          "text": [
            "Epoch: 1/50 - Train Loss: 0.6535 - Train Acc: 63.02% - Val Loss: 0.5652 - Val Acc: 84.08% \n",
            "Validation loss decreased (-0.565234 --> 0.565234).  Saving model ...\n",
            "Epoch: 2/50 - Train Loss: 0.5515 - Train Acc: 80.03% - Val Loss: 0.5411 - Val Acc: 75.48% \n",
            "Validation loss decreased (-0.541055 --> 0.541055).  Saving model ...\n",
            "Epoch: 3/50 - Train Loss: 0.5089 - Train Acc: 84.27% - Val Loss: 0.4906 - Val Acc: 83.76% \n",
            "Validation loss decreased (-0.490562 --> 0.490562).  Saving model ...\n",
            "Epoch: 4/50 - Train Loss: 0.4830 - Train Acc: 85.78% - Val Loss: 0.4443 - Val Acc: 90.45% \n",
            "Validation loss decreased (-0.444301 --> 0.444301).  Saving model ...\n",
            "Epoch: 5/50 - Train Loss: 0.4681 - Train Acc: 86.66% - Val Loss: 0.4324 - Val Acc: 90.45% \n",
            "Validation loss decreased (-0.432432 --> 0.432432).  Saving model ...\n",
            "Epoch: 6/50 - Train Loss: 0.4578 - Train Acc: 86.74% - Val Loss: 0.4658 - Val Acc: 85.35% \n",
            "EarlyStopping counter: 1 out of 7\n",
            "Epoch: 7/50 - Train Loss: 0.4502 - Train Acc: 87.22% - Val Loss: 0.4127 - Val Acc: 92.99% \n",
            "Validation loss decreased (-0.412738 --> 0.412738).  Saving model ...\n",
            "Epoch: 8/50 - Train Loss: 0.4450 - Train Acc: 88.74% - Val Loss: 0.4077 - Val Acc: 93.95% \n",
            "Validation loss decreased (-0.407709 --> 0.407709).  Saving model ...\n",
            "Epoch: 9/50 - Train Loss: 0.4380 - Train Acc: 87.94% - Val Loss: 0.4121 - Val Acc: 91.40% \n",
            "EarlyStopping counter: 1 out of 7\n",
            "Epoch: 10/50 - Train Loss: 0.4313 - Train Acc: 88.90% - Val Loss: 0.4146 - Val Acc: 89.81% \n",
            "EarlyStopping counter: 2 out of 7\n",
            "Epoch: 11/50 - Train Loss: 0.4277 - Train Acc: 89.46% - Val Loss: 0.4241 - Val Acc: 89.17% \n",
            "EarlyStopping counter: 3 out of 7\n",
            "Epoch: 12/50 - Train Loss: 0.4249 - Train Acc: 89.06% - Val Loss: 0.4249 - Val Acc: 88.85% \n",
            "EarlyStopping counter: 4 out of 7\n",
            "Epoch: 13/50 - Train Loss: 0.4220 - Train Acc: 89.38% - Val Loss: 0.3958 - Val Acc: 92.99% \n",
            "Validation loss decreased (-0.395821 --> 0.395821).  Saving model ...\n",
            "Epoch: 14/50 - Train Loss: 0.4164 - Train Acc: 90.34% - Val Loss: 0.3950 - Val Acc: 92.68% \n",
            "Validation loss decreased (-0.394979 --> 0.394979).  Saving model ...\n",
            "Epoch: 15/50 - Train Loss: 0.4153 - Train Acc: 90.89% - Val Loss: 0.3942 - Val Acc: 93.31% \n",
            "Validation loss decreased (-0.394227 --> 0.394227).  Saving model ...\n",
            "Epoch: 16/50 - Train Loss: 0.4114 - Train Acc: 90.81% - Val Loss: 0.3921 - Val Acc: 93.31% \n",
            "Validation loss decreased (-0.392052 --> 0.392052).  Saving model ...\n",
            "Epoch: 17/50 - Train Loss: 0.4098 - Train Acc: 90.97% - Val Loss: 0.3981 - Val Acc: 91.08% \n",
            "EarlyStopping counter: 1 out of 7\n",
            "Epoch: 18/50 - Train Loss: 0.4081 - Train Acc: 91.13% - Val Loss: 0.3844 - Val Acc: 93.63% \n",
            "Validation loss decreased (-0.384444 --> 0.384444).  Saving model ...\n",
            "Epoch: 19/50 - Train Loss: 0.4049 - Train Acc: 91.29% - Val Loss: 0.3879 - Val Acc: 93.31% \n",
            "EarlyStopping counter: 1 out of 7\n",
            "Epoch: 20/50 - Train Loss: 0.4031 - Train Acc: 91.85% - Val Loss: 0.3846 - Val Acc: 93.63% \n",
            "EarlyStopping counter: 2 out of 7\n",
            "Epoch: 21/50 - Train Loss: 0.4002 - Train Acc: 91.69% - Val Loss: 0.3860 - Val Acc: 92.99% \n",
            "EarlyStopping counter: 3 out of 7\n",
            "Epoch: 22/50 - Train Loss: 0.3994 - Train Acc: 92.17% - Val Loss: 0.4261 - Val Acc: 89.17% \n",
            "EarlyStopping counter: 4 out of 7\n",
            "Epoch: 23/50 - Train Loss: 0.3975 - Train Acc: 92.09% - Val Loss: 0.3945 - Val Acc: 92.04% \n",
            "EarlyStopping counter: 5 out of 7\n",
            "Epoch: 24/50 - Train Loss: 0.3953 - Train Acc: 92.65% - Val Loss: 0.4211 - Val Acc: 89.81% \n",
            "EarlyStopping counter: 6 out of 7\n",
            "Epoch: 25/50 - Train Loss: 0.3949 - Train Acc: 92.49% - Val Loss: 0.3816 - Val Acc: 93.63% \n",
            "Validation loss decreased (-0.381581 --> 0.381581).  Saving model ...\n",
            "Epoch: 26/50 - Train Loss: 0.3918 - Train Acc: 93.37% - Val Loss: 0.3824 - Val Acc: 93.63% \n",
            "EarlyStopping counter: 1 out of 7\n",
            "Epoch: 27/50 - Train Loss: 0.3906 - Train Acc: 92.97% - Val Loss: 0.3765 - Val Acc: 94.59% \n",
            "Validation loss decreased (-0.376528 --> 0.376528).  Saving model ...\n",
            "Epoch: 28/50 - Train Loss: 0.3900 - Train Acc: 93.21% - Val Loss: 0.3797 - Val Acc: 93.63% \n",
            "EarlyStopping counter: 1 out of 7\n",
            "Epoch: 29/50 - Train Loss: 0.3880 - Train Acc: 92.97% - Val Loss: 0.3750 - Val Acc: 94.27% \n",
            "Validation loss decreased (-0.375010 --> 0.375010).  Saving model ...\n",
            "Epoch: 30/50 - Train Loss: 0.3872 - Train Acc: 93.13% - Val Loss: 0.3894 - Val Acc: 92.99% \n",
            "EarlyStopping counter: 1 out of 7\n",
            "Epoch: 31/50 - Train Loss: 0.3852 - Train Acc: 93.45% - Val Loss: 0.3840 - Val Acc: 93.95% \n",
            "EarlyStopping counter: 2 out of 7\n",
            "Epoch: 32/50 - Train Loss: 0.3837 - Train Acc: 93.53% - Val Loss: 0.3775 - Val Acc: 94.59% \n",
            "EarlyStopping counter: 3 out of 7\n",
            "Epoch: 33/50 - Train Loss: 0.3832 - Train Acc: 93.61% - Val Loss: 0.3828 - Val Acc: 93.95% \n",
            "EarlyStopping counter: 4 out of 7\n",
            "Epoch: 34/50 - Train Loss: 0.3825 - Train Acc: 93.69% - Val Loss: 0.3818 - Val Acc: 93.95% \n",
            "EarlyStopping counter: 5 out of 7\n",
            "Epoch: 35/50 - Train Loss: 0.3816 - Train Acc: 94.17% - Val Loss: 0.3751 - Val Acc: 94.27% \n",
            "EarlyStopping counter: 6 out of 7\n",
            "Epoch: 36/50 - Train Loss: 0.3798 - Train Acc: 94.01% - Val Loss: 0.3878 - Val Acc: 92.36% \n",
            "EarlyStopping counter: 7 out of 7\n",
            "Early stopping\n"
          ]
        }
      ],
      "source": [
        "torch.manual_seed(190401085)\n",
        "\n",
        "# EarlyStopping sınıfını başlat\n",
        "early_stopping = EarlyStopping(patience=7, verbose=True)\n",
        "\n",
        "train_loss_list = [] # train loss listesi\n",
        "val_loss_list = [] # validation loss listesi\n",
        "\n",
        "num_epochs = 50\n",
        "\n",
        "# Her bir epoch'ta dongu\n",
        "for epoch in range(num_epochs):\n",
        "    # Model egitim modunda (training mode) olacak\n",
        "    model.train()\n",
        "    train_loss = 0\n",
        "    train_correct = 0\n",
        "    train_total = 0\n",
        "\n",
        "    # Her bir batch (yigin) icin dongu\n",
        "    for i, (inputs, labels) in enumerate(train_loader):\n",
        "        # Verileri GPU'ya taşı\n",
        "        inputs, labels = inputs.to(device), labels.to(device)\n",
        "\n",
        "        # Gradientleri sifirla\n",
        "        optimizer.zero_grad()\n",
        "\n",
        "        # Forward pass islemi\n",
        "        outputs = model(inputs)\n",
        "\n",
        "        # Loss hesapla\n",
        "        loss = criterion(outputs, labels)\n",
        "\n",
        "        # Gradientleri backward işlemi ile hesapla\n",
        "        loss.backward()\n",
        "\n",
        "        # Optimize etmek için weights (ağırlıklar) güncelle\n",
        "        optimizer.step()\n",
        "\n",
        "        # Toplam loss değerini ve doğru tahmin sayısını güncelle\n",
        "        train_loss += loss.item() * inputs.size(0)\n",
        "        _, predicted = torch.max(outputs.data, 1)\n",
        "        train_total += labels.size(0)\n",
        "        train_correct += (predicted == labels).sum().item()\n",
        "\n",
        "        # Her 100 batchte bir kaybı yazdır\n",
        "        if (i+1) % 100 == 0:\n",
        "            print(f'Epoch [{epoch+1}/{num_epochs}], Step [{i+1}/{len(train_loader)}], Loss: {loss.item():.4f}')\n",
        "\n",
        "    # Train loss'un ortalamasını al ve kaydet\n",
        "    train_loss = train_loss / len(train_loader.dataset)\n",
        "    train_acc = 100 * train_correct / train_total\n",
        "    train_loss_list.append(train_loss)\n",
        "\n",
        "    # Model degerlendirme modunda (evaluation mode) olacak\n",
        "    model.eval()\n",
        "\n",
        "    # Validation veri seti üzerinde degerlendirme\n",
        "    with torch.no_grad():\n",
        "        val_loss = 0\n",
        "        val_correct = 0\n",
        "        val_total = 0\n",
        "\n",
        "        # Her bir batch (yigin) için dongu\n",
        "        for inputs, labels in val_loader:\n",
        "            # Verileri GPU'ya tasi\n",
        "            inputs, labels = inputs.to(device), labels.to(device)\n",
        "\n",
        "            # Forward pass islemi\n",
        "            outputs = model(inputs)\n",
        "\n",
        "            # Loss hesapla\n",
        "            loss = criterion(outputs, labels)\n",
        "\n",
        "            # Toplam loss degerini ve doğru tahmin sayisini guncelle\n",
        "            val_loss += loss.item() * inputs.size(0)\n",
        "            _, predicted = torch.max(outputs.data, 1)\n",
        "            val_total += labels.size(0)\n",
        "            val_correct += (predicted == labels).sum().item()\n",
        "\n",
        "        # Validation loss'un ortalamasını al ve kaydet\n",
        "        val_loss = val_loss / len(val_loader.dataset)\n",
        "        val_acc = 100 * val_correct / val_total\n",
        "        val_loss_list.append(val_loss)\n",
        "\n",
        "    # Her epoch sonunda train loss, train accuracy, validation loss ve validation accuracy'yi yazdır\n",
        "    print(f'Epoch: {epoch+1}/{num_epochs} - Train Loss: {train_loss:.4f} - Train Acc: {train_acc:.2f}% - Val Loss: {val_loss:.4f} - Val Acc: {val_acc:.2f}% ')\n",
        "\n",
        "    # Early stopping sınıfını çağırarak, eğitim işleminin devam etmesi gerekip gerekmediğini kontrol et\n",
        "    early_stopping(val_loss, model)\n",
        "\n",
        "    # Early stopping aktif hale gelirse eğitim döngüsünden çık\n",
        "    if early_stopping.early_stop:\n",
        "        print(\"Early stopping\")\n",
        "        break\n"
      ]
    },
    {
      "cell_type": "code",
      "source": [
        "new_model = MLP(input_size, hidden_size1, hidden_size2, output_size).to(device)\n",
        "\n",
        "# Kaydedilmiş modelin dosya yolunu belirleyin\n",
        "model_path = '/content/checkpoint.pt'\n",
        "\n",
        "# En iyi modeli yükleyin\n",
        "new_model.load_state_dict(torch.load(model_path))\n",
        "\n",
        "# Yeni modelin performansını değerlendirme modunda (evaluation mode) ayarlayın\n",
        "new_model.eval()\n",
        "\n",
        "# Test veri seti değerlendirme\n",
        "with torch.no_grad():\n",
        "    predicted_labels = []\n",
        "    true_labels = []\n",
        "    for inputs, labels in test_loader:\n",
        "        inputs, labels = inputs.to(device), labels.to(device)\n",
        "        outputs = new_model(inputs)\n",
        "        _, predicted = torch.max(outputs.data, 1)\n",
        "        predicted_labels += predicted.tolist()\n",
        "        true_labels += labels.tolist()\n",
        "        \n",
        "from sklearn.metrics import accuracy_score, precision_score, recall_score, f1_score\n",
        "# Sklearn kütüphanesi ile hesaplanan metrik değerleri yazdırma\n",
        "print(\"Accuracy: {:.4f}\".format(accuracy_score(true_labels, predicted_labels)))\n",
        "print(\"Precision: {:.4f}\".format(precision_score(true_labels, predicted_labels)))\n",
        "print(\"Recall: {:.4f}\".format(recall_score(true_labels, predicted_labels)))\n",
        "print(\"F1 Score: {:.4f}\".format(f1_score(true_labels, predicted_labels)))\n"
      ],
      "metadata": {
        "colab": {
          "base_uri": "https://localhost:8080/"
        },
        "id": "oHvtzHI_KFyA",
        "outputId": "b8c9cc64-37ed-4edb-a2e8-804c64d2dfd9"
      },
      "execution_count": null,
      "outputs": [
        {
          "output_type": "stream",
          "name": "stdout",
          "text": [
            "Accuracy: 0.9288\n",
            "Precision: 0.9393\n",
            "Recall: 0.9175\n",
            "F1 Score: 0.9283\n"
          ]
        }
      ]
    },
    {
      "cell_type": "code",
      "execution_count": null,
      "metadata": {
        "colab": {
          "base_uri": "https://localhost:8080/",
          "height": 575
        },
        "id": "-mY_ZCRkWd6A",
        "outputId": "84585587-bf7f-4d12-88c0-8d3e2cbed135"
      },
      "outputs": [
        {
          "output_type": "display_data",
          "data": {
            "text/plain": [
              "<Figure size 800x600 with 1 Axes>"
            ],
            "image/png": "[encoded data removed]"
          },
          "metadata": {}
        }
      ],
      "source": [
        "# matplotlib kütüphanesini içe aktarıyoruz\n",
        "import matplotlib.pyplot as plt\n",
        "\n",
        "# figür ve eksen objelerini oluşturuyoruz\n",
        "fig, ax = plt.subplots(figsize=(8,6))\n",
        "\n",
        "# eğitim kayıp değerlerini mavi renkte, eğitim sırasındaki çıktı kayıplarını gösteren grafiği çiziyoruz\n",
        "plt.plot(train_loss_list, color='blue', linewidth=2, alpha=0.7, label=\"Train loss\")\n",
        "\n",
        "# doğrulama (validation) kayıp değerlerini kırmızı renkte, doğrulama sırasındaki çıktı kayıplarını gösteren grafiği çiziyoruz\n",
        "plt.plot(val_loss_list, color='red', linewidth=2, alpha=0.7, label=\"Val. loss\")\n",
        "\n",
        "# grafiğin başlığını belirliyoruz\n",
        "plt.title('Training Loss', fontsize=16, fontweight='bold')\n",
        "\n",
        "# x ekseni etiketini belirliyoruz\n",
        "plt.xlabel('Epochs', fontsize=14, fontweight='bold')\n",
        "\n",
        "# y ekseni etiketini belirliyoruz\n",
        "plt.ylabel('Loss', fontsize=14, fontweight='bold')\n",
        "\n",
        "# eksen etiketleri boyutunu ayarlıyoruz\n",
        "ax.tick_params(axis='both', labelsize=12)\n",
        "\n",
        "# eksenlerin üst ve sağ taraflarını kaldırıyoruz\n",
        "ax.spines['top'].set_visible(False)\n",
        "ax.spines['right'].set_visible(False)\n",
        "\n",
        "# y ekseni üzerindeki ızgaraların şeffaflığını ayarlıyoruz\n",
        "ax.grid(axis='y', alpha=0.3)\n",
        "\n",
        "# grafiğin açıklamasını belirliyoruz\n",
        "plt.legend()\n",
        "\n",
        "# grafiği gösteriyoruz\n",
        "plt.show()\n"
      ]
    },
    {
      "cell_type": "code",
      "execution_count": null,
      "metadata": {
        "colab": {
          "base_uri": "https://localhost:8080/"
        },
        "id": "Ic3eNntu5si8",
        "outputId": "ea065d86-d371-4ddc-e653-a8a1f27695f9"
      },
      "outputs": [
        {
          "output_type": "stream",
          "name": "stdout",
          "text": [
            "İlk Çalışma  : 2023-04-08 23:01:06.753395\n",
            "Tamamlanma   : 2023-04-08 23:01:22.669911\n",
            "Kodun Çalışma süresi: cuda:0  0:00:15.916516\n"
          ]
        }
      ],
      "source": [
        "lastRunTime=datetime.datetime.now()\n",
        "print(\"İlk Çalışma  :\",firstRunTime)\n",
        "print(\"Tamamlanma   :\",lastRunTime)\n",
        "print(f\"Kodun Çalışma süresi: {device} \",lastRunTime-firstRunTime)"
      ]
    }
  ],
  "metadata": {
    "accelerator": "GPU",
    "colab": {
      "provenance": []
    },
    "gpuClass": "standard",
    "kernelspec": {
      "display_name": "Python 3",
      "name": "python3"
    },
    "language_info": {
      "name": "python"
    }
  },
  "nbformat": 4,
  "nbformat_minor": 0
}