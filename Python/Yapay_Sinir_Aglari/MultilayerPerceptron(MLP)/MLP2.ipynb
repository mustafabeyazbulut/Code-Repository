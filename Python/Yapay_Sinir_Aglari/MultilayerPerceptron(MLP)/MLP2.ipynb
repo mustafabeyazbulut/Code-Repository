{
  "cells": [
    {
      "cell_type": "code",
      "execution_count": 1,
      "metadata": {
        "id": "5PrdeANbOk_T"
      },
      "outputs": [],
      "source": [
        "import pandas as pd\n",
        "import torch\n",
        "from torch.utils.data import Dataset, DataLoader\n",
        "import datetime"
      ]
    },
    {
      "cell_type": "code",
      "source": [
        "# cuda ile çalışıyorsa true döner aksi durumda false\n",
        "torch.cuda.is_available()"
      ],
      "metadata": {
        "colab": {
          "base_uri": "https://localhost:8080/"
        },
        "id": "G8svv5BDx8UD",
        "outputId": "2a5cf153-5d32-4f2a-fa9d-922ac5b01bec"
      },
      "execution_count": 2,
      "outputs": [
        {
          "output_type": "execute_result",
          "data": {
            "text/plain": [
              "True"
            ]
          },
          "metadata": {},
          "execution_count": 2
        }
      ]
    },
    {
      "cell_type": "code",
      "source": [
        "from google.colab import drive\n",
        "drive.mount(\"/content/drive\")"
      ],
      "metadata": {
        "colab": {
          "base_uri": "https://localhost:8080/"
        },
        "id": "8_fimqvh9bVO",
        "outputId": "daba26a3-1024-451e-e0cd-8210c61276c3"
      },
      "execution_count": 3,
      "outputs": [
        {
          "output_type": "stream",
          "name": "stdout",
          "text": [
            "Drive already mounted at /content/drive; to attempt to forcibly remount, call drive.mount(\"/content/drive\", force_remount=True).\n"
          ]
        }
      ]
    },
    {
      "cell_type": "code",
      "execution_count": 4,
      "metadata": {
        "id": "RYLC4LaV5HJl"
      },
      "outputs": [],
      "source": [
        "firstRunTime=datetime.datetime.now()"
      ]
    },
    {
      "cell_type": "code",
      "execution_count": 5,
      "metadata": {
        "id": "bBGhdiG5OmNF"
      },
      "outputs": [],
      "source": [
        "# Veri setlerini yükleme\n",
        "train_df  = pd.read_csv('/content/drive/MyDrive/Colab Notebooks/Csv/cure_the_princess_train.csv')\n",
        "val_df = pd.read_csv('/content/drive/MyDrive/Colab Notebooks/Csv/cure_the_princess_validation.csv')\n",
        "test_df  = pd.read_csv('/content/drive/MyDrive/Colab Notebooks/Csv/cure_the_princess_test.csv')"
      ]
    },
    {
      "cell_type": "code",
      "execution_count": 6,
      "metadata": {
        "id": "lm0BDQc7Ono5"
      },
      "outputs": [],
      "source": [
        "# Veri setlerini işleme için sınıf oluşturuyoruz\n",
        "class MyDataset(Dataset):\n",
        "    def __init__(self, df):\n",
        "        self.inputs = df.drop('Cured', axis=1).values\n",
        "        self.labels = df['Cured'].values\n",
        "        \n",
        "    def __len__(self):\n",
        "        return len(self.labels)\n",
        "        \n",
        "    def __getitem__(self, idx):\n",
        "        return torch.tensor(self.inputs[idx], dtype=torch.float), torch.tensor(self.labels[idx], dtype=torch.long)"
      ]
    },
    {
      "cell_type": "code",
      "execution_count": 7,
      "metadata": {
        "id": "u3q1EjMBOqW4"
      },
      "outputs": [],
      "source": [
        "train_dataset = MyDataset(train_df)\n",
        "val_dataset = MyDataset(val_df)\n",
        "test_dataset = MyDataset(test_df)"
      ]
    },
    {
      "cell_type": "code",
      "execution_count": 8,
      "metadata": {
        "id": "eSercYdDPq4T"
      },
      "outputs": [],
      "source": [
        "batch_size = 16"
      ]
    },
    {
      "cell_type": "code",
      "execution_count": 9,
      "metadata": {
        "id": "Ng5_3kLjPt0J"
      },
      "outputs": [],
      "source": [
        "train_loader = DataLoader(train_dataset, batch_size=batch_size, shuffle=True)\n",
        "val_loader = DataLoader(val_dataset, batch_size=batch_size)\n",
        "test_loader = DataLoader(test_dataset, batch_size=batch_size)"
      ]
    },
    {
      "cell_type": "code",
      "execution_count": 10,
      "metadata": {
        "id": "TCda2yKKPwki"
      },
      "outputs": [],
      "source": [
        "#Model oluşturuyoruz\n",
        "import torch.nn as nn\n",
        "\n",
        "class MLP(nn.Module):\n",
        "    def __init__(self, input_size, hidden_size1, hidden_size2, output_size):\n",
        "        super(MLP, self).__init__()\n",
        "        self.fc1 = nn.Linear(input_size, hidden_size1)\n",
        "        self.fc2 = nn.Linear(hidden_size1, hidden_size2)\n",
        "        self.fc3 = nn.Linear(hidden_size2, output_size)\n",
        "        self.relu = nn.ReLU()\n",
        "        self.sigmoid = nn.Sigmoid()\n",
        "\n",
        "    def forward(self, x):\n",
        "        out = self.fc1(x)\n",
        "        out = self.relu(out)\n",
        "        out = self.fc2(out)\n",
        "        out = self.relu(out)\n",
        "        out = self.fc3(out)\n",
        "        out = self.sigmoid(out)\n",
        "        return out"
      ]
    },
    {
      "cell_type": "code",
      "execution_count": 11,
      "metadata": {
        "id": "z_TCx5-9QNRa"
      },
      "outputs": [],
      "source": [
        "input_size=len(train_df.columns) - 1\n",
        "hidden_size1=100\n",
        "hidden_size2=50\n",
        "output_size=len(train_df['Cured'].unique())\n",
        "\n",
        "device = torch.device(\"cuda:0\" if torch.cuda.is_available() else \"cpu\")\n",
        "model = MLP(input_size, hidden_size1, hidden_size2, output_size).to(device)"
      ]
    },
    {
      "cell_type": "code",
      "execution_count": 12,
      "metadata": {
        "id": "cAzUYur4Pzgs"
      },
      "outputs": [],
      "source": [
        "#Loss fonksiyonu belirliyoruz\n",
        "criterion = nn.CrossEntropyLoss()\n",
        "\n",
        "#Optimizasyon yöntemi ve parametreleri belirliyoruz\n",
        "optimizer = torch.optim.SGD(model.parameters(), lr=0.01)\n"
      ]
    },
    {
      "cell_type": "code",
      "source": [
        "class EarlyStopping:\n",
        "    def __init__(self, patience=7, delta=0, verbose=False, path='checkpoint.pt', trace_func=print):\n",
        "        # patience: epoch sayısı - eğer bu sayı boyunca validation loss değeri artarsa eğitim durdurulur\n",
        "        self.patience = patience\n",
        "        # delta: validation loss'da önemsiz değişiklikler olarak kabul edilebilecek değer aralığı\n",
        "        self.delta = delta\n",
        "        # verbose: kaydedilen checkpoint'ların detaylı loglarının ekrana yazdırılıp yazdırılmayacağı\n",
        "        self.verbose = verbose\n",
        "        # path: kaydedilen checkpoint'ların kaydedileceği dosya yolu ve ismi\n",
        "        self.path = path\n",
        "         # trace_func: eğitim sırasında logların yazdırılacağı çıktı fonksiyonu\n",
        "        self.trace_func = trace_func\n",
        "        self.counter = 0\n",
        "        self.best_score = None\n",
        "        self.early_stop = False\n",
        "\n",
        "    def __call__(self, val_loss, model):\n",
        "        # eğitim sırasında her epoch sonunda çağrılır\n",
        "        score = -val_loss\n",
        "\n",
        "        if self.best_score is None:\n",
        "            self.best_score = score\n",
        "            self.save_checkpoint(val_loss, model)\n",
        "        elif score < self.best_score + self.delta:\n",
        "            self.counter += 1\n",
        "            self.trace_func(f'EarlyStopping counter: {self.counter} out of {self.patience}')\n",
        "            if self.counter >= self.patience:\n",
        "                self.early_stop = True\n",
        "        else:\n",
        "            self.best_score = score\n",
        "            self.save_checkpoint(val_loss, model)\n",
        "            self.counter = 0\n",
        "\n",
        "    def save_checkpoint(self, val_loss, model):\n",
        "        # modeli kaydeder ve kaydedilen checkpoint'ın loglarını yazdırır\n",
        "        if self.verbose:\n",
        "            self.trace_func(f'Validation loss decreased ({self.best_score:.6f} --> {val_loss:.6f}).  Saving model ...')\n",
        "        torch.save(model.state_dict(), self.path)"
      ],
      "metadata": {
        "id": "vl-Df9lugY1s"
      },
      "execution_count": 13,
      "outputs": []
    },
    {
      "cell_type": "code",
      "source": [
        "class L2Regularization(nn.Module):\n",
        "    def __init__(self, weight_decay):\n",
        "        super(L2Regularization, self).__init__()\n",
        "        self.weight_decay = weight_decay\n",
        "\n",
        "    def forward(self, model):\n",
        "        l2_reg = torch.tensor(0.).to(device)\n",
        "        for name, param in model.named_parameters():\n",
        "            if 'weight' in name:\n",
        "                l2_reg += torch.norm(param, p=2)**2\n",
        "        return self.weight_decay * l2_reg\n"
      ],
      "metadata": {
        "id": "ZNE96_TZuuc6"
      },
      "execution_count": 14,
      "outputs": []
    },
    {
      "cell_type": "code",
      "source": [
        "class DropoutRegularization(nn.Module):\n",
        "    def __init__(self, dropout_prob):\n",
        "        super(DropoutRegularization, self).__init__()\n",
        "        self.dropout_prob = dropout_prob\n",
        "        self.dropout = nn.Dropout(p=dropout_prob)\n",
        "\n",
        "    def forward(self, x):\n",
        "        x = self.dropout(x)\n",
        "        return x\n"
      ],
      "metadata": {
        "id": "P6s8VxsUuxJS"
      },
      "execution_count": 15,
      "outputs": []
    },
    {
      "cell_type": "code",
      "execution_count": 16,
      "metadata": {
        "colab": {
          "base_uri": "https://localhost:8080/"
        },
        "id": "a63EjEmcP3Zq",
        "outputId": "04ba5b52-8376-4e8b-98b9-34a9f8e92053"
      },
      "outputs": [
        {
          "output_type": "stream",
          "name": "stdout",
          "text": [
            "Epoch: 1/50 - Train Loss: 0.6640 - Train Acc: 51.92% - Val Loss: 0.6162 - Val Acc: 54.14% \n",
            "Validation loss decreased (-0.616195 --> 0.616195).  Saving model ...\n",
            "Epoch: 2/50 - Train Loss: 0.5893 - Train Acc: 57.43% - Val Loss: 0.5630 - Val Acc: 55.10% \n",
            "Validation loss decreased (-0.563030 --> 0.563030).  Saving model ...\n",
            "Epoch: 3/50 - Train Loss: 0.5404 - Train Acc: 58.55% - Val Loss: 0.5098 - Val Acc: 61.15% \n",
            "Validation loss decreased (-0.509791 --> 0.509791).  Saving model ...\n",
            "Epoch: 4/50 - Train Loss: 0.5064 - Train Acc: 57.83% - Val Loss: 0.4685 - Val Acc: 61.46% \n",
            "Validation loss decreased (-0.468489 --> 0.468489).  Saving model ...\n",
            "Epoch: 5/50 - Train Loss: 0.4876 - Train Acc: 58.07% - Val Loss: 0.4565 - Val Acc: 63.06% \n",
            "Validation loss decreased (-0.456494 --> 0.456494).  Saving model ...\n",
            "Epoch: 6/50 - Train Loss: 0.4760 - Train Acc: 56.79% - Val Loss: 0.4754 - Val Acc: 59.55% \n",
            "EarlyStopping counter: 1 out of 7\n",
            "Epoch: 7/50 - Train Loss: 0.4657 - Train Acc: 59.50% - Val Loss: 0.4343 - Val Acc: 61.15% \n",
            "Validation loss decreased (-0.434298 --> 0.434298).  Saving model ...\n",
            "Epoch: 8/50 - Train Loss: 0.4615 - Train Acc: 58.95% - Val Loss: 0.4174 - Val Acc: 61.46% \n",
            "Validation loss decreased (-0.417447 --> 0.417447).  Saving model ...\n",
            "Epoch: 9/50 - Train Loss: 0.4536 - Train Acc: 62.06% - Val Loss: 0.4282 - Val Acc: 60.83% \n",
            "EarlyStopping counter: 1 out of 7\n",
            "Epoch: 10/50 - Train Loss: 0.4458 - Train Acc: 58.87% - Val Loss: 0.4124 - Val Acc: 61.78% \n",
            "Validation loss decreased (-0.412412 --> 0.412412).  Saving model ...\n",
            "Epoch: 11/50 - Train Loss: 0.4418 - Train Acc: 59.66% - Val Loss: 0.4354 - Val Acc: 62.42% \n",
            "EarlyStopping counter: 1 out of 7\n",
            "Epoch: 12/50 - Train Loss: 0.4381 - Train Acc: 60.06% - Val Loss: 0.4508 - Val Acc: 61.46% \n",
            "EarlyStopping counter: 2 out of 7\n",
            "Epoch: 13/50 - Train Loss: 0.4357 - Train Acc: 59.58% - Val Loss: 0.4003 - Val Acc: 64.01% \n",
            "Validation loss decreased (-0.400324 --> 0.400324).  Saving model ...\n",
            "Epoch: 14/50 - Train Loss: 0.4290 - Train Acc: 59.74% - Val Loss: 0.4017 - Val Acc: 61.78% \n",
            "EarlyStopping counter: 1 out of 7\n",
            "Epoch: 15/50 - Train Loss: 0.4277 - Train Acc: 62.94% - Val Loss: 0.4000 - Val Acc: 59.87% \n",
            "Validation loss decreased (-0.399955 --> 0.399955).  Saving model ...\n",
            "Epoch: 16/50 - Train Loss: 0.4230 - Train Acc: 61.66% - Val Loss: 0.3969 - Val Acc: 60.83% \n",
            "Validation loss decreased (-0.396932 --> 0.396932).  Saving model ...\n",
            "Epoch: 17/50 - Train Loss: 0.4232 - Train Acc: 60.46% - Val Loss: 0.3959 - Val Acc: 59.87% \n",
            "Validation loss decreased (-0.395901 --> 0.395901).  Saving model ...\n",
            "Epoch: 18/50 - Train Loss: 0.4211 - Train Acc: 58.71% - Val Loss: 0.3907 - Val Acc: 58.28% \n",
            "Validation loss decreased (-0.390730 --> 0.390730).  Saving model ...\n",
            "Epoch: 19/50 - Train Loss: 0.4167 - Train Acc: 61.90% - Val Loss: 0.3909 - Val Acc: 56.37% \n",
            "EarlyStopping counter: 1 out of 7\n",
            "Epoch: 20/50 - Train Loss: 0.4145 - Train Acc: 57.83% - Val Loss: 0.4214 - Val Acc: 61.15% \n",
            "EarlyStopping counter: 2 out of 7\n",
            "Epoch: 21/50 - Train Loss: 0.4144 - Train Acc: 57.75% - Val Loss: 0.3919 - Val Acc: 64.01% \n",
            "EarlyStopping counter: 3 out of 7\n",
            "Epoch: 22/50 - Train Loss: 0.4124 - Train Acc: 58.47% - Val Loss: 0.4796 - Val Acc: 56.69% \n",
            "EarlyStopping counter: 4 out of 7\n",
            "Epoch: 23/50 - Train Loss: 0.4081 - Train Acc: 61.10% - Val Loss: 0.3968 - Val Acc: 58.60% \n",
            "EarlyStopping counter: 5 out of 7\n",
            "Epoch: 24/50 - Train Loss: 0.4060 - Train Acc: 58.95% - Val Loss: 0.4331 - Val Acc: 58.92% \n",
            "EarlyStopping counter: 6 out of 7\n",
            "Epoch: 25/50 - Train Loss: 0.4060 - Train Acc: 59.98% - Val Loss: 0.3852 - Val Acc: 59.87% \n",
            "Validation loss decreased (-0.385215 --> 0.385215).  Saving model ...\n",
            "Epoch: 26/50 - Train Loss: 0.4029 - Train Acc: 56.31% - Val Loss: 0.4234 - Val Acc: 62.10% \n",
            "EarlyStopping counter: 1 out of 7\n",
            "Epoch: 27/50 - Train Loss: 0.3991 - Train Acc: 61.90% - Val Loss: 0.3818 - Val Acc: 57.64% \n",
            "Validation loss decreased (-0.381814 --> 0.381814).  Saving model ...\n",
            "Epoch: 28/50 - Train Loss: 0.3986 - Train Acc: 62.30% - Val Loss: 0.3834 - Val Acc: 55.10% \n",
            "EarlyStopping counter: 1 out of 7\n",
            "Epoch: 29/50 - Train Loss: 0.3950 - Train Acc: 60.22% - Val Loss: 0.3808 - Val Acc: 59.24% \n",
            "Validation loss decreased (-0.380792 --> 0.380792).  Saving model ...\n",
            "Epoch: 30/50 - Train Loss: 0.3945 - Train Acc: 61.26% - Val Loss: 0.3911 - Val Acc: 66.88% \n",
            "EarlyStopping counter: 1 out of 7\n",
            "Epoch: 31/50 - Train Loss: 0.3921 - Train Acc: 58.31% - Val Loss: 0.3818 - Val Acc: 58.60% \n",
            "EarlyStopping counter: 2 out of 7\n",
            "Epoch: 32/50 - Train Loss: 0.3896 - Train Acc: 60.78% - Val Loss: 0.3853 - Val Acc: 60.83% \n",
            "EarlyStopping counter: 3 out of 7\n",
            "Epoch: 33/50 - Train Loss: 0.3876 - Train Acc: 61.82% - Val Loss: 0.3822 - Val Acc: 61.78% \n",
            "EarlyStopping counter: 4 out of 7\n",
            "Epoch: 34/50 - Train Loss: 0.3869 - Train Acc: 60.94% - Val Loss: 0.4003 - Val Acc: 58.60% \n",
            "EarlyStopping counter: 5 out of 7\n",
            "Epoch: 35/50 - Train Loss: 0.3854 - Train Acc: 60.94% - Val Loss: 0.3797 - Val Acc: 63.06% \n",
            "Validation loss decreased (-0.379696 --> 0.379696).  Saving model ...\n",
            "Epoch: 36/50 - Train Loss: 0.3814 - Train Acc: 59.03% - Val Loss: 0.3788 - Val Acc: 61.78% \n",
            "Validation loss decreased (-0.378802 --> 0.378802).  Saving model ...\n",
            "Epoch: 37/50 - Train Loss: 0.3797 - Train Acc: 60.62% - Val Loss: 0.3771 - Val Acc: 60.51% \n",
            "Validation loss decreased (-0.377054 --> 0.377054).  Saving model ...\n",
            "Epoch: 38/50 - Train Loss: 0.3797 - Train Acc: 61.26% - Val Loss: 0.4083 - Val Acc: 58.92% \n",
            "EarlyStopping counter: 1 out of 7\n",
            "Epoch: 39/50 - Train Loss: 0.3796 - Train Acc: 59.35% - Val Loss: 0.3778 - Val Acc: 60.51% \n",
            "EarlyStopping counter: 2 out of 7\n",
            "Epoch: 40/50 - Train Loss: 0.3761 - Train Acc: 62.06% - Val Loss: 0.3735 - Val Acc: 60.51% \n",
            "Validation loss decreased (-0.373489 --> 0.373489).  Saving model ...\n",
            "Epoch: 41/50 - Train Loss: 0.3745 - Train Acc: 61.26% - Val Loss: 0.3751 - Val Acc: 59.87% \n",
            "EarlyStopping counter: 1 out of 7\n",
            "Epoch: 42/50 - Train Loss: 0.3745 - Train Acc: 60.38% - Val Loss: 0.3720 - Val Acc: 61.46% \n",
            "Validation loss decreased (-0.372037 --> 0.372037).  Saving model ...\n",
            "Epoch: 43/50 - Train Loss: 0.3722 - Train Acc: 61.42% - Val Loss: 0.3813 - Val Acc: 57.32% \n",
            "EarlyStopping counter: 1 out of 7\n",
            "Epoch: 44/50 - Train Loss: 0.3707 - Train Acc: 62.78% - Val Loss: 0.3705 - Val Acc: 58.28% \n",
            "Validation loss decreased (-0.370532 --> 0.370532).  Saving model ...\n",
            "Epoch: 45/50 - Train Loss: 0.3706 - Train Acc: 61.26% - Val Loss: 0.3723 - Val Acc: 56.69% \n",
            "EarlyStopping counter: 1 out of 7\n",
            "Epoch: 46/50 - Train Loss: 0.3682 - Train Acc: 62.30% - Val Loss: 0.3827 - Val Acc: 55.41% \n",
            "EarlyStopping counter: 2 out of 7\n",
            "Epoch: 47/50 - Train Loss: 0.3681 - Train Acc: 61.18% - Val Loss: 0.3694 - Val Acc: 64.33% \n",
            "Validation loss decreased (-0.369369 --> 0.369369).  Saving model ...\n",
            "Epoch: 48/50 - Train Loss: 0.3677 - Train Acc: 62.94% - Val Loss: 0.3722 - Val Acc: 60.83% \n",
            "EarlyStopping counter: 1 out of 7\n",
            "Epoch: 49/50 - Train Loss: 0.3663 - Train Acc: 60.22% - Val Loss: 0.3681 - Val Acc: 63.69% \n",
            "Validation loss decreased (-0.368123 --> 0.368123).  Saving model ...\n",
            "Epoch: 50/50 - Train Loss: 0.3643 - Train Acc: 62.70% - Val Loss: 0.3689 - Val Acc: 62.74% \n",
            "EarlyStopping counter: 1 out of 7\n"
          ]
        }
      ],
      "source": [
        "torch.manual_seed(190401085)\n",
        "\n",
        "# Dropout regülasyonu için DropoutRegularization sınıfından nesne oluşturuldu ve dropout oranı 0.5 olarak ayarlandı\n",
        "dropout_reg = DropoutRegularization(0.5)\n",
        "\n",
        "# L2 regülasyonu için L2Regularization sınıfından nesne oluşturuldu ve L2 faktörü 1e-5 olarak ayarlandı\n",
        "l2_reg = L2Regularization(1e-5)\n",
        "\n",
        "# EarlyStopping sınıfını başlat\n",
        "early_stopping = EarlyStopping(patience=7, verbose=True)\n",
        "\n",
        "train_loss_list = [] # train loss listesi\n",
        "val_loss_list = [] # validation loss listesi\n",
        "\n",
        "num_epochs = 50\n",
        "\n",
        "# Her bir epoch'ta dongu\n",
        "for epoch in range(num_epochs):\n",
        "    # Model egitim modunda (training mode) olacak\n",
        "    model.train()\n",
        "    train_loss = 0\n",
        "    train_correct = 0\n",
        "    train_total = 0\n",
        "\n",
        "    # Her bir batch (yigin) icin dongu\n",
        "    for i, (inputs, labels) in enumerate(train_loader):\n",
        "        # Verileri GPU'ya taşı\n",
        "        inputs, labels = inputs.to(device), labels.to(device)\n",
        "\n",
        "        # Gradientleri sifirla\n",
        "        optimizer.zero_grad()\n",
        "\n",
        "        # Forward pass islemi\n",
        "        outputs = model(inputs)\n",
        "\n",
        "        # Loss hesapla\n",
        "        loss = criterion(outputs, labels)\n",
        "\n",
        "        # L2 regularization uygula\n",
        "        l2_loss = l2_reg(model)\n",
        "        loss += l2_loss   \n",
        "\n",
        "        # Dropout regularization uygula\n",
        "        outputs = dropout_reg(outputs)\n",
        "\n",
        "        # Gradientleri backward işlemi ile hesapla\n",
        "        loss.backward()\n",
        "\n",
        "        # Optimize etmek için weights (ağırlıklar) güncelle\n",
        "        optimizer.step()\n",
        "\n",
        "        # Toplam loss değerini ve doğru tahmin sayısını güncelle\n",
        "        train_loss += loss.item() * inputs.size(0)\n",
        "        _, predicted = torch.max(outputs.data, 1)\n",
        "        train_total += labels.size(0)\n",
        "        train_correct += (predicted == labels).sum().item()\n",
        "\n",
        "        # Her 100 batchte bir kaybı yazdır\n",
        "        if (i+1) % 100 == 0:\n",
        "            print(f'Epoch [{epoch+1}/{num_epochs}], Step [{i+1}/{len(train_loader)}], Loss: {loss.item():.4f}')\n",
        "\n",
        "    # Train loss'un ortalamasını al ve kaydet\n",
        "    train_loss = train_loss / len(train_loader.dataset)\n",
        "    train_acc = 100 * train_correct / train_total\n",
        "    train_loss_list.append(train_loss)\n",
        "\n",
        "    # Model degerlendirme modunda (evaluation mode) olacak\n",
        "    model.eval()\n",
        "\n",
        "    # Validation veri seti üzerinde degerlendirme\n",
        "    with torch.no_grad():\n",
        "        val_loss = 0\n",
        "        val_correct = 0\n",
        "        val_total = 0\n",
        "\n",
        "        # Her bir batch (yigin) için dongu\n",
        "        for inputs, labels in val_loader:\n",
        "            # Verileri GPU'ya tasi\n",
        "            inputs, labels = inputs.to(device), labels.to(device)\n",
        "\n",
        "            # Forward pass islemi\n",
        "            outputs = model(inputs)\n",
        "\n",
        "            # Loss hesapla\n",
        "            loss = criterion(outputs, labels)\n",
        "\n",
        "            # L2 regularization uygula\n",
        "            l2_loss = l2_reg(model)\n",
        "            loss += l2_loss   \n",
        "         \n",
        "            # Dropout regularization uygula\n",
        "            outputs = dropout_reg(outputs)\n",
        "\n",
        "            # Toplam loss degerini ve doğru tahmin sayisini guncelle\n",
        "            val_loss += loss.item() * inputs.size(0)\n",
        "            _, predicted = torch.max(outputs.data, 1)\n",
        "            val_total += labels.size(0)\n",
        "            val_correct += (predicted == labels).sum().item()\n",
        "\n",
        "        # Validation loss'un ortalamasını al ve kaydet\n",
        "        val_loss = val_loss / len(val_loader.dataset)\n",
        "        val_acc = 100 * val_correct / val_total\n",
        "        val_loss_list.append(val_loss)\n",
        "\n",
        "    # Her epoch sonunda train loss, train accuracy, validation loss ve validation accuracy'yi yazdır\n",
        "    print(f'Epoch: {epoch+1}/{num_epochs} - Train Loss: {train_loss:.4f} - Train Acc: {train_acc:.2f}% - Val Loss: {val_loss:.4f} - Val Acc: {val_acc:.2f}% ')\n",
        "\n",
        "    # Early stopping sınıfını çağırarak, eğitim işleminin devam etmesi gerekip gerekmediğini kontrol et\n",
        "    early_stopping(val_loss, model)\n",
        "\n",
        "    # Early stopping aktif hale gelirse eğitim döngüsünden çık\n",
        "    if early_stopping.early_stop:\n",
        "        print(\"Early stopping\")\n",
        "        break\n"
      ]
    },
    {
      "cell_type": "code",
      "source": [
        "new_model = MLP(input_size, hidden_size1, hidden_size2, output_size).to(device)\n",
        "\n",
        "# Kaydedilmiş modelin dosya yolunu belirleyin\n",
        "model_path = '/content/checkpoint.pt'\n",
        "\n",
        "# En iyi modeli yükleyin\n",
        "new_model.load_state_dict(torch.load(model_path))\n",
        "\n",
        "# Yeni modelin performansını değerlendirme modunda (evaluation mode) ayarlayın\n",
        "new_model.eval()\n",
        "\n",
        "# Test veri seti değerlendirme\n",
        "with torch.no_grad():\n",
        "    predicted_labels = []\n",
        "    true_labels = []\n",
        "    for inputs, labels in test_loader:\n",
        "        inputs, labels = inputs.to(device), labels.to(device)\n",
        "        outputs = new_model(inputs)\n",
        "        _, predicted = torch.max(outputs.data, 1)\n",
        "        predicted_labels += predicted.tolist()\n",
        "        true_labels += labels.tolist()\n",
        "        \n",
        "from sklearn.metrics import accuracy_score, precision_score, recall_score, f1_score\n",
        "# Sklearn kütüphanesi ile hesaplanan metrik değerleri yazdırma\n",
        "print(\"Accuracy: {:.4f}\".format(accuracy_score(true_labels, predicted_labels)))\n",
        "print(\"Precision: {:.4f}\".format(precision_score(true_labels, predicted_labels)))\n",
        "print(\"Recall: {:.4f}\".format(recall_score(true_labels, predicted_labels)))\n",
        "print(\"F1 Score: {:.4f}\".format(f1_score(true_labels, predicted_labels)))\n"
      ],
      "metadata": {
        "colab": {
          "base_uri": "https://localhost:8080/"
        },
        "id": "oHvtzHI_KFyA",
        "outputId": "e4d28db1-85af-407a-a9f8-50ab76180d7f"
      },
      "execution_count": 17,
      "outputs": [
        {
          "output_type": "stream",
          "name": "stdout",
          "text": [
            "Accuracy: 0.9430\n",
            "Precision: 0.9550\n",
            "Recall: 0.9304\n",
            "F1 Score: 0.9426\n"
          ]
        }
      ]
    },
    {
      "cell_type": "code",
      "execution_count": 18,
      "metadata": {
        "colab": {
          "base_uri": "https://localhost:8080/",
          "height": 575
        },
        "id": "-mY_ZCRkWd6A",
        "outputId": "ce2d4962-056e-4b57-87d7-66b01557c51d"
      },
      "outputs": [
        {
          "output_type": "display_data",
          "data": {
            "text/plain": [
              "<Figure size 800x600 with 1 Axes>"
            ],
            "image/png": "[encoded data removed]"
          },
          "metadata": {}
        }
      ],
      "source": [
        "# matplotlib kütüphanesini içe aktarıyoruz\n",
        "import matplotlib.pyplot as plt\n",
        "\n",
        "# figür ve eksen objelerini oluşturuyoruz\n",
        "fig, ax = plt.subplots(figsize=(8,6))\n",
        "\n",
        "# eğitim kayıp değerlerini mavi renkte, eğitim sırasındaki çıktı kayıplarını gösteren grafiği çiziyoruz\n",
        "plt.plot(train_loss_list, color='blue', linewidth=2, alpha=0.7, label=\"Train loss\")\n",
        "\n",
        "# doğrulama (validation) kayıp değerlerini kırmızı renkte, doğrulama sırasındaki çıktı kayıplarını gösteren grafiği çiziyoruz\n",
        "plt.plot(val_loss_list, color='red', linewidth=2, alpha=0.7, label=\"Val. loss\")\n",
        "\n",
        "# grafiğin başlığını belirliyoruz\n",
        "plt.title('Training Loss', fontsize=16, fontweight='bold')\n",
        "\n",
        "# x ekseni etiketini belirliyoruz\n",
        "plt.xlabel('Epochs', fontsize=14, fontweight='bold')\n",
        "\n",
        "# y ekseni etiketini belirliyoruz\n",
        "plt.ylabel('Loss', fontsize=14, fontweight='bold')\n",
        "\n",
        "# eksen etiketleri boyutunu ayarlıyoruz\n",
        "ax.tick_params(axis='both', labelsize=12)\n",
        "\n",
        "# eksenlerin üst ve sağ taraflarını kaldırıyoruz\n",
        "ax.spines['top'].set_visible(False)\n",
        "ax.spines['right'].set_visible(False)\n",
        "\n",
        "# y ekseni üzerindeki ızgaraların şeffaflığını ayarlıyoruz\n",
        "ax.grid(axis='y', alpha=0.3)\n",
        "\n",
        "# grafiğin açıklamasını belirliyoruz\n",
        "plt.legend()\n",
        "\n",
        "# grafiği gösteriyoruz\n",
        "plt.show()\n"
      ]
    },
    {
      "cell_type": "code",
      "execution_count": 19,
      "metadata": {
        "colab": {
          "base_uri": "https://localhost:8080/"
        },
        "id": "Ic3eNntu5si8",
        "outputId": "b2ef213e-374a-4509-929c-2a2764118c6d"
      },
      "outputs": [
        {
          "output_type": "stream",
          "name": "stdout",
          "text": [
            "İlk Çalışma  : 2023-04-08 23:25:42.385292\n",
            "Tamamlanma   : 2023-04-08 23:26:05.627292\n",
            "Kodun Çalışma süresi: cuda:0  0:00:23.242000\n"
          ]
        }
      ],
      "source": [
        "lastRunTime=datetime.datetime.now()\n",
        "print(\"İlk Çalışma  :\",firstRunTime)\n",
        "print(\"Tamamlanma   :\",lastRunTime)\n",
        "print(f\"Kodun Çalışma süresi: {device} \",lastRunTime-firstRunTime)"
      ]
    }
  ],
  "metadata": {
    "accelerator": "GPU",
    "colab": {
      "provenance": []
    },
    "gpuClass": "standard",
    "kernelspec": {
      "display_name": "Python 3",
      "name": "python3"
    },
    "language_info": {
      "name": "python"
    }
  },
  "nbformat": 4,
  "nbformat_minor": 0
}