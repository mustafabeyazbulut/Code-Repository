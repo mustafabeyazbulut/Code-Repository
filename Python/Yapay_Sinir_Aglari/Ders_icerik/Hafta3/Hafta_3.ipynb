{
  "cells": [
    {
      "cell_type": "markdown",
      "metadata": {
        "origin_pos": 0,
        "id": "BqPWL-ivwuBN"
      },
      "source": [
        "# Automatic Differentiation\n",
        "\n",
        "Optimizasyon işlemi için elde türev almıştık önceki derste basit bir neural network'te. İlk iterasyon için forward ve backward hesabı elle yapabiliriz, ama binlerde hatta yüzbinlerce öznitelik vektörü için, binlerce nöronu olan çok fazla hidden layerlı bir neural network için bu türevleri, ileri geri işlemleri hesaplayabilir miyiz?\n",
        "\n",
        "Hayır!\n",
        "\n",
        "Derin öğrenme yöntemlerinde sistem otomatik olarak bir *computational graph* oluşturuyor, ve hangi veri hangi operasyonla ilintili bunların kaydını tutuyor.\n",
        "\n",
        "Bu sayede, backpropagation yapmak hafızadaki bilgileri kullanarak mümkün oluyor.\n",
        "\n",
        "Backpropagation sürecinde sistem, oluşturduğu computational graph üzerinde geri gidiyor, ve her parametrenin birbirine göre türevini alarak sonuçları hesaplıyor.\n",
        "\n",
        "\n",
        "## Basit Örnek\n",
        "\n",
        "Neural network'de elimizdeki fonksiyon:\n",
        "$y = 2\\mathbf{x}^{\\top}\\mathbf{x}$\n",
        "\n",
        "x skalar değerleri için y'nin türevlerinin sonuçları ne olacak? Onları hesaplayalım!\n"
      ]
    },
    {
      "cell_type": "code",
      "execution_count": null,
      "metadata": {
        "origin_pos": 2,
        "tab": [
          "pytorch"
        ],
        "id": "9Fmnp0nXwuBQ",
        "outputId": "e88d7f9c-b2fd-4b23-ed95-ef8fa4e69845",
        "colab": {
          "base_uri": "https://localhost:8080/"
        }
      },
      "outputs": [
        {
          "output_type": "execute_result",
          "data": {
            "text/plain": [
              "tensor([0., 1., 2., 3.])"
            ]
          },
          "metadata": {},
          "execution_count": 1
        }
      ],
      "source": [
        "import torch\n",
        "\n",
        "# x'e skalar değerler ver, içeriği fark etmez\n",
        "x = torch.arange(4.0)\n",
        "x"
      ]
    },
    {
      "cell_type": "markdown",
      "metadata": {
        "origin_pos": 4,
        "id": "1Y9gZTQlwuBS"
      },
      "source": [
        "Türev hesabından önce yapılması gereken önemli bir adım:\n",
        "\n",
        "x değerlerini türeve hazır şekilde hazıfaya kaydetmek!\n",
        "\n",
        "Her seferinde tekrar tekrar değerler bulup hafızaya yazarsak, RAM dolar ve hata alırız. Yani değerler hafızada sabit bir yerde kalmalı. "
      ]
    },
    {
      "cell_type": "code",
      "execution_count": null,
      "metadata": {
        "origin_pos": 6,
        "tab": [
          "pytorch"
        ],
        "id": "PNLWnza8wuBT",
        "colab": {
          "base_uri": "https://localhost:8080/"
        },
        "outputId": "cac85f1f-99f7-4f5c-b593-7a7e6ebfe6ff"
      },
      "outputs": [
        {
          "output_type": "execute_result",
          "data": {
            "text/plain": [
              "tensor([0., 1., 2., 3.], requires_grad=True)"
            ]
          },
          "metadata": {},
          "execution_count": 2
        }
      ],
      "source": [
        "# Hafızada türeve hazır halde sabitle\n",
        "x.requires_grad_(True)  # Alternatif olarak `x = torch.arange(4.0, requires_grad=True)`"
      ]
    },
    {
      "cell_type": "code",
      "source": [
        "# Hiçbir şeyin x'e göre türev sonucu ne? Hafızada ona dair bir fonksiyon tanımlamadık henüz.\n",
        "\n",
        "print(x.grad)"
      ],
      "metadata": {
        "colab": {
          "base_uri": "https://localhost:8080/"
        },
        "id": "lxkiqUzEdbQB",
        "outputId": "ee995876-9f49-45ba-cbb3-baf09935f7c3"
      },
      "execution_count": null,
      "outputs": [
        {
          "output_type": "stream",
          "name": "stdout",
          "text": [
            "None\n"
          ]
        }
      ]
    },
    {
      "cell_type": "markdown",
      "metadata": {
        "origin_pos": 8,
        "id": "7GtAuYPEwuBU"
      },
      "source": [
        "y fonksiyonunu yazalım\n"
      ]
    },
    {
      "cell_type": "code",
      "execution_count": null,
      "metadata": {
        "origin_pos": 10,
        "tab": [
          "pytorch"
        ],
        "id": "T21rknYPwuBU",
        "outputId": "8ba9700c-7ef6-499e-b62b-413b4f826805",
        "colab": {
          "base_uri": "https://localhost:8080/"
        }
      },
      "outputs": [
        {
          "output_type": "execute_result",
          "data": {
            "text/plain": [
              "tensor(28., grad_fn=<MulBackward0>)"
            ]
          },
          "metadata": {},
          "execution_count": 4
        }
      ],
      "source": [
        "y = 2 * torch.dot(x, x)\n",
        "y"
      ]
    },
    {
      "cell_type": "markdown",
      "metadata": {
        "origin_pos": 12,
        "id": "UGR4qSpjwuBV"
      },
      "source": [
        "y'nin x'e göre türevini nasıl hesaplarız elde hesap yapmadan?\n",
        "\n",
        "backpropagation\n"
      ]
    },
    {
      "cell_type": "code",
      "execution_count": null,
      "metadata": {
        "origin_pos": 14,
        "tab": [
          "pytorch"
        ],
        "id": "ztl6l2qzwuBW"
      },
      "outputs": [],
      "source": [
        "y.backward()"
      ]
    },
    {
      "cell_type": "markdown",
      "source": [
        "türev sonuçları hafızada saklı:"
      ],
      "metadata": {
        "id": "xtOO3eLQhPA5"
      }
    },
    {
      "cell_type": "code",
      "source": [
        "x"
      ],
      "metadata": {
        "colab": {
          "base_uri": "https://localhost:8080/"
        },
        "id": "ys9bZhTxhT_J",
        "outputId": "06d6e849-71f5-4929-a5cf-8507452a2284"
      },
      "execution_count": null,
      "outputs": [
        {
          "output_type": "execute_result",
          "data": {
            "text/plain": [
              "tensor([0., 1., 2., 3.], requires_grad=True)"
            ]
          },
          "metadata": {},
          "execution_count": 6
        }
      ]
    },
    {
      "cell_type": "code",
      "source": [
        "# elde hesaplasak 4*x'e denk gelecek bu türev\n",
        "x.grad"
      ],
      "metadata": {
        "id": "UNJeV6PLhKlm",
        "colab": {
          "base_uri": "https://localhost:8080/"
        },
        "outputId": "a09bb423-b95c-4219-9d84-69daebe5a404"
      },
      "execution_count": null,
      "outputs": [
        {
          "output_type": "execute_result",
          "data": {
            "text/plain": [
              "tensor([ 0.,  4.,  8., 12.])"
            ]
          },
          "metadata": {},
          "execution_count": 7
        }
      ]
    },
    {
      "cell_type": "code",
      "execution_count": null,
      "metadata": {
        "origin_pos": 18,
        "tab": [
          "pytorch"
        ],
        "id": "DYPH5Yk-wuBY",
        "outputId": "570cf8be-66cf-4228-b80d-e13b1ebe57b2",
        "colab": {
          "base_uri": "https://localhost:8080/"
        }
      },
      "outputs": [
        {
          "output_type": "execute_result",
          "data": {
            "text/plain": [
              "tensor([True, True, True, True])"
            ]
          },
          "metadata": {},
          "execution_count": 8
        }
      ],
      "source": [
        "x.grad == 4 * x"
      ]
    },
    {
      "cell_type": "markdown",
      "metadata": {
        "origin_pos": 20,
        "id": "Pql_mgQtwuBY"
      },
      "source": [
        "x'e bağlı başka bir fonksiyon hesabı yapacaksak, x türev bilgilerini hafızadan temizlememiz gerekiyor. Yoksa her tekrarda ikinci üçüncü derece gradient almaya kalkar önceki değerlerin üzerine\n"
      ]
    },
    {
      "cell_type": "code",
      "execution_count": null,
      "metadata": {
        "origin_pos": 22,
        "tab": [
          "pytorch"
        ],
        "id": "ioD7OnOnwuBZ",
        "outputId": "a134bbd6-a27b-4d76-eccd-ae4936855ec7",
        "colab": {
          "base_uri": "https://localhost:8080/"
        }
      },
      "outputs": [
        {
          "output_type": "execute_result",
          "data": {
            "text/plain": [
              "tensor([0., 0., 0., 0.])"
            ]
          },
          "metadata": {},
          "execution_count": 9
        }
      ],
      "source": [
        "# PyTorch accumulates the gradient in default, we need to clear the previous\n",
        "# values\n",
        "x.grad.zero_()\n",
        "x.grad"
      ]
    },
    {
      "cell_type": "markdown",
      "metadata": {
        "origin_pos": 24,
        "id": "gBHjGyjGwuBZ"
      },
      "source": [
        "## Skalar olmayan değerler için?\n",
        "\n",
        "Gerçek uygulamalarda veriler tek tek değil, batch halinde verilir. Bu batch'ler için türev nasıl hesaplanacak?\n",
        "\n",
        "İş artık vektörden matrixe dönüşecek\n",
        "\n",
        "Partial derivative'lerin toplamı lazım\n"
      ]
    },
    {
      "cell_type": "code",
      "source": [
        "x"
      ],
      "metadata": {
        "colab": {
          "base_uri": "https://localhost:8080/"
        },
        "id": "NDe1Q6hXmSF0",
        "outputId": "dbd72ec8-69a5-4638-f458-b030e02ee583"
      },
      "execution_count": null,
      "outputs": [
        {
          "output_type": "execute_result",
          "data": {
            "text/plain": [
              "tensor([0., 1., 2., 3.], requires_grad=True)"
            ]
          },
          "metadata": {},
          "execution_count": 10
        }
      ]
    },
    {
      "cell_type": "code",
      "execution_count": null,
      "metadata": {
        "origin_pos": 26,
        "tab": [
          "pytorch"
        ],
        "id": "vZ5Sq70owuBa",
        "outputId": "60ec08dc-1073-4748-d3a4-5b57413f5f17",
        "colab": {
          "base_uri": "https://localhost:8080/"
        }
      },
      "outputs": [
        {
          "output_type": "stream",
          "name": "stdout",
          "text": [
            "tensor([0., 1., 4., 9.], grad_fn=<MulBackward0>)\n"
          ]
        },
        {
          "output_type": "execute_result",
          "data": {
            "text/plain": [
              "tensor([0., 2., 4., 6.])"
            ]
          },
          "metadata": {},
          "execution_count": 11
        }
      ],
      "source": [
        "# öncelikle x'in hafızadaki türevlerini sıfırla\n",
        "x.grad.zero_()\n",
        "\n",
        "# y fonksiyonumuz\n",
        "y = x * x\n",
        "print(y)\n",
        "\n",
        "# y.backward(torch.ones(len(x))) equivalent to the below\n",
        "y.sum().backward()\n",
        "x.grad"
      ]
    },
    {
      "cell_type": "markdown",
      "metadata": {
        "origin_pos": 28,
        "id": "JUKmgb1KwuBa"
      },
      "source": [
        "## Hafızadakini bozmadan işlem yapabilmek\n",
        "\n",
        "Bazı hesapları hafızadakinin dışında yapmak isteriz (computational graph dışında).\n",
        "\n",
        "Mesela, `y`, `x`e bağlı bir fonksiyon ve bunu hesapladık diyelim.\n",
        "Daha sonra `z` de `y` ve `x`e bağlı bir fonksiyon olarak tanımlandı:\n",
        "\n",
        "z = y*x\n",
        "\n",
        "(output layer'daki fonksiyonu hatırlayın, hem bir önceki layer aktivasyon fonksiyonuna hem de x'e bağlıydı). Yani z de önemli\n",
        "\n",
        "`z`nin `x`e göre türevini nasıl hesaplarız?\n",
        "\n",
        "`y`yi hafızadan ayıralım, y'nin x'den hesaplanan değerini u variable'ına kaydedelim. u'da değer olsun ama y'nin computational graph'ta nasıl hesaplandığı bilgisi olmasın (yani hafızadaki yerinden farklı yerde olsun).\n",
        "\n",
        "Yani z'nin türevini hesaplarken y kısmı x'e kadar gitmesin, ara sonuç u bize lazım.\n",
        "\n",
        "Böylece backpropagation'da `z = u * x`un x'e göre türevini hesaplarken u değerini sabit alacağız `z = x * x * x`'in türevini almak yerine\n"
      ]
    },
    {
      "cell_type": "code",
      "execution_count": null,
      "metadata": {
        "origin_pos": 30,
        "tab": [
          "pytorch"
        ],
        "id": "duRk_BdvwuBb",
        "outputId": "789479c6-10b7-4417-83f0-9f58328d6118",
        "colab": {
          "base_uri": "https://localhost:8080/"
        }
      },
      "outputs": [
        {
          "output_type": "stream",
          "name": "stdout",
          "text": [
            "tensor([0., 1., 4., 9.])\n",
            "tensor([ 0.,  1.,  8., 27.], grad_fn=<MulBackward0>)\n"
          ]
        }
      ],
      "source": [
        "x.grad.zero_()\n",
        "y = x * x\n",
        "u = y.detach() # u'yu y'nin hafızadaki yerinden başka bir yere kopyalayıp içinde sadece y'nin skalar değerlerini tutuyoruz\n",
        "print(u)\n",
        "z = u * x\n",
        "\n",
        "print(z)"
      ]
    },
    {
      "cell_type": "code",
      "source": [
        "z.sum().backward()\n",
        "\n",
        "print(x.grad)\n",
        "\n",
        "x.grad == u"
      ],
      "metadata": {
        "colab": {
          "base_uri": "https://localhost:8080/"
        },
        "id": "NYgIkv86r9sp",
        "outputId": "c6cff1be-a759-485c-ecfa-07ee6d147ffc"
      },
      "execution_count": null,
      "outputs": [
        {
          "output_type": "stream",
          "name": "stdout",
          "text": [
            "tensor([0., 1., 4., 9.])\n"
          ]
        },
        {
          "output_type": "execute_result",
          "data": {
            "text/plain": [
              "tensor([True, True, True, True])"
            ]
          },
          "metadata": {},
          "execution_count": 13
        }
      ]
    },
    {
      "cell_type": "markdown",
      "metadata": {
        "origin_pos": 32,
        "id": "V1lIwGo6wuBc"
      },
      "source": [
        "Şimdi y'nin x'e göre türevini hesaplayalım:\n",
        "\n",
        " `y = x * x` in `x`e göre türevi `2 * x` olacak\n"
      ]
    },
    {
      "cell_type": "code",
      "execution_count": null,
      "metadata": {
        "origin_pos": 34,
        "tab": [
          "pytorch"
        ],
        "id": "OMQLdiInwuBc",
        "outputId": "ddd20ce9-6687-4ca7-adca-a2dfbd022529",
        "colab": {
          "base_uri": "https://localhost:8080/"
        }
      },
      "outputs": [
        {
          "output_type": "execute_result",
          "data": {
            "text/plain": [
              "tensor([True, True, True, True])"
            ]
          },
          "metadata": {},
          "execution_count": 14
        }
      ],
      "source": [
        "x.grad.zero_()\n",
        "y.sum().backward()\n",
        "x.grad == 2 * x"
      ]
    },
    {
      "cell_type": "markdown",
      "metadata": {
        "origin_pos": 36,
        "id": "70mrG_cTwuBc"
      },
      "source": [
        "## Çılgın fonksiyonların bile türevi hesaplanabilir\n"
      ]
    },
    {
      "cell_type": "code",
      "execution_count": null,
      "metadata": {
        "origin_pos": 38,
        "tab": [
          "pytorch"
        ],
        "id": "RjZzuDEdwuBd"
      },
      "outputs": [],
      "source": [
        "def f(a):\n",
        "    b = a * 2\n",
        "    while b.norm() < 1000:\n",
        "        b = b * 2\n",
        "    if b.sum() > 0:\n",
        "        c = b\n",
        "    else:\n",
        "        c = 100 * b\n",
        "    return c"
      ]
    },
    {
      "cell_type": "code",
      "execution_count": null,
      "metadata": {
        "origin_pos": 42,
        "tab": [
          "pytorch"
        ],
        "id": "3qytvxg-wuBd",
        "colab": {
          "base_uri": "https://localhost:8080/"
        },
        "outputId": "69f77a3a-aae5-468c-bcff-aadd232b1949"
      },
      "outputs": [
        {
          "output_type": "stream",
          "name": "stdout",
          "text": [
            "tensor(0.3407, requires_grad=True)\n",
            "tensor(1395.4294, grad_fn=<MulBackward0>)\n"
          ]
        }
      ],
      "source": [
        "# Türevi\n",
        "\n",
        "a = torch.randn(size=(), requires_grad=True) #türevlenebilir oluşturuyoruz\n",
        "\n",
        "print(a)\n",
        "\n",
        "d = f(a)\n",
        "\n",
        "d.backward()\n",
        "\n",
        "print(d)"
      ]
    },
    {
      "cell_type": "markdown",
      "metadata": {
        "origin_pos": 44,
        "id": "iByQIRwDwuBd"
      },
      "source": [
        "Fonksiyona bakınca `f(a) = k * a`, değer `k` ya bağlı. d = f(a) olunca türev de k oluyor.\n",
        "\n",
        "Doğal olarak türevin `d / a = k` olması normal.\n"
      ]
    },
    {
      "cell_type": "code",
      "execution_count": null,
      "metadata": {
        "origin_pos": 46,
        "tab": [
          "pytorch"
        ],
        "id": "qbbd2InbwuBe",
        "outputId": "04c632f8-16aa-411e-816c-5a886cc8c269",
        "colab": {
          "base_uri": "https://localhost:8080/"
        }
      },
      "outputs": [
        {
          "output_type": "execute_result",
          "data": {
            "text/plain": [
              "tensor(True)"
            ]
          },
          "metadata": {},
          "execution_count": 17
        }
      ],
      "source": [
        "a.grad == d / a"
      ]
    }
  ],
  "metadata": {
    "kernelspec": {
      "display_name": "Python 3",
      "name": "python3"
    },
    "language_info": {
      "name": "python"
    },
    "colab": {
      "provenance": []
    }
  },
  "nbformat": 4,
  "nbformat_minor": 0
}