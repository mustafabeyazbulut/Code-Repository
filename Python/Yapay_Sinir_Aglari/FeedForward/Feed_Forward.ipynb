{
  "cells": [
    {
      "cell_type": "markdown",
      "source": [
        "# Feed Forward\n",
        "\n"
      ],
      "metadata": {
        "id": "27U-yoY1o08b"
      }
    },
    {
      "cell_type": "code",
      "source": [
        "import torch\n",
        "import torch.nn as nn"
      ],
      "metadata": {
        "id": "IPcwGs0Yp8lH"
      },
      "execution_count": null,
      "outputs": []
    },
    {
      "cell_type": "code",
      "source": [
        "x = torch.tensor([[1, 2, 3], [4, 5, 6]], dtype=torch.float32)"
      ],
      "metadata": {
        "id": "58SaqB4tq62P"
      },
      "execution_count": null,
      "outputs": []
    },
    {
      "cell_type": "code",
      "source": [
        "class FeedForward(nn.Module):\n",
        "    def __init__(self):\n",
        "        super(FeedForward, self).__init__()\n",
        "        self.hidden_layer = nn.Linear(3, 50)\n",
        "        self.output_layer = nn.Linear(50, 1)\n",
        "\n",
        "    def forward(self, x):\n",
        "        x = self.tanh_activation(self.hidden_layer(x))\n",
        "        x = self.sigmoid_activation(self.output_layer(x))\n",
        "        return x\n",
        "    \n",
        "    def tanh_activation(self, x):\n",
        "        return (torch.exp(x) - torch.exp(-x)) / (torch.exp(x) + torch.exp(-x))\n",
        "    \n",
        "    def sigmoid_activation(self, x):\n",
        "        return 1 / (1 + torch.exp(-x))"
      ],
      "metadata": {
        "id": "Zdm563NjqCPp"
      },
      "execution_count": null,
      "outputs": []
    },
    {
      "cell_type": "code",
      "source": [
        "seed=1\n",
        "torch.manual_seed(seed=seed)\n",
        "\n",
        "model = FeedForward()\n",
        "output = model(x)\n",
        "\n",
        "print('seed değeri:' , seed, ' output değeri:' ,  output.data)"
      ],
      "metadata": {
        "id": "0HxigEu_qFAO",
        "outputId": "d3997d89-2b36-4825-8a26-ce0c659d9aff",
        "colab": {
          "base_uri": "https://localhost:8080/"
        }
      },
      "execution_count": null,
      "outputs": [
        {
          "output_type": "stream",
          "name": "stdout",
          "text": [
            "seed değeri: 1  output değeri: tensor([[0.4892],\n",
            "        [0.5566]])\n"
          ]
        }
      ]
    },
    {
      "cell_type": "code",
      "source": [
        "seed=190401085\n",
        "torch.manual_seed(seed=seed)\n",
        "\n",
        "model = FeedForward()\n",
        "output = model(x)\n",
        "\n",
        "print('seed değeri:' , seed, ' output değeri:' ,  output.data)"
      ],
      "metadata": {
        "colab": {
          "base_uri": "https://localhost:8080/"
        },
        "id": "roFssVZD0V85",
        "outputId": "f5afd8cd-838b-4852-effa-8a514210f875"
      },
      "execution_count": null,
      "outputs": [
        {
          "output_type": "stream",
          "name": "stdout",
          "text": [
            "seed değeri: 190401085  output değeri: tensor([[0.4991],\n",
            "        [0.4573]])\n"
          ]
        }
      ]
    },
    {
      "cell_type": "markdown",
      "source": [],
      "metadata": {
        "id": "iM19LZDorKVL"
      }
    }
  ],
  "metadata": {
    "colab": {
      "toc_visible": true,
      "provenance": []
    },
    "kernelspec": {
      "display_name": "Python 3",
      "name": "python3"
    }
  },
  "nbformat": 4,
  "nbformat_minor": 0
}