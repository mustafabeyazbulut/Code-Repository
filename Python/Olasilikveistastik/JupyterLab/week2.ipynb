{
 "cells": [
  {
   "cell_type": "code",
   "execution_count": 1,
   "id": "remarkable-eagle",
   "metadata": {},
   "outputs": [],
   "source": [
    "import numpy as np\n",
    "import collections\n",
    "import random"
   ]
  },
  {
   "cell_type": "code",
   "execution_count": 2,
   "id": "sticky-concentrate",
   "metadata": {},
   "outputs": [
    {
     "data": {
      "text/plain": [
       "0.486"
      ]
     },
     "execution_count": 2,
     "metadata": {},
     "output_type": "execute_result"
    }
   ],
   "source": [
    "def my_f(n=1000):\n",
    "    h_number=0 #gelen turaları saymak için değişken oluşturduk.\n",
    "    for i in range(n): #fonksiyona gönderilen n sayısı kadar para atma işlemi yapmak için for döngüsü kullanıyoruz.\n",
    "        outcome=np.random.choice(['H','T']) #outcome değişkenine atılan paranın yazı mı tura mı geldiğini random şekilde belirleyerek tanımlıyoruz.\n",
    "        if outcome=='H': # para eğer tura geldiyse h_number değişkenini 1 sayı arttırıyoruz.\n",
    "            h_number=h_number+1\n",
    "    return h_number/n #paranın tura gelme sayısını, para atma işlemi toplamda kaç defa yapıldıysa o sayıya bölüyoruz ve bu değeri geri döndürüyoruz.\n",
    "my_f(1000)"
   ]
  },
  {
   "cell_type": "markdown",
   "id": "ruled-kuwait",
   "metadata": {},
   "source": [
    "Paranın yazı ya da tura gelme olasılığı 1/2'dir. Yukarıdaki fonksiyonda fonksiyona gönderilen n değeri kadar para atma işlemi yapılıyor.\n",
    "Daha sonra bu n değeri kadar işlemden paranın Tura geldiği durumlar sayılıyor.\n",
    "Paranın tura geldiği durum sayısı, toplam para atma sayısına bölünüyor.\n",
    "Sonuç olarak 1/2 ye yakın değerlere ulaşılıyor."
   ]
  },
  {
   "cell_type": "code",
   "execution_count": 3,
   "id": "accredited-printer",
   "metadata": {},
   "outputs": [
    {
     "data": {
      "text/plain": [
       "(0.16491, 0.16717)"
      ]
     },
     "execution_count": 3,
     "metadata": {},
     "output_type": "execute_result"
    }
   ],
   "source": [
    "def my_f_for_die(n=100):\n",
    "    number_of_1=0 #atılan zarın 1 geldiği durumları saymak için değişken oluşturduk.\n",
    "    number_of_4=0 #atılan zarın 4 geldiği durumları saymak için değişken oluşturduk.\n",
    "    for i in range(n): #fonksiyona gönderilen n sayısı kadar zar atma işlemi yapmak için for döngüsü kullanıyoruz.\n",
    "        outcome=np.random.choice([1,2,3,4,5,6]) #Atılan zarın geldiği değeri outcome değişkenine tanımlıyoruz.\n",
    "        if outcome==1: #atılan zar eğer 1 e eşit ise number_of_1 değişkenini 1 sayı arttırıyoruz.\n",
    "            number_of_1=number_of_1+1\n",
    "        if outcome==4: #atılan zar eğer 4 e eşit ise number_of_1 değişkenini 1 sayı arttırıyoruz.\n",
    "            number_of_4=number_of_4+1        \n",
    "    return number_of_1/n,number_of_4/n # atılan zar kaç defa 1 geldiyse ve atılan zar kaç defa 4 geldiyse ayrı ayrı toplamda atılan zar sayısına bölüyoruz ve çıkan değeri döndürüyoruz.\n",
    "my_f_for_die(100000)"
   ]
  },
  {
   "cell_type": "markdown",
   "id": "mobile-leonard",
   "metadata": {},
   "source": [
    "1'den 6 ya kadar numaraların olduğu bir zarın bu sayılardan herhangi birinin gelme olasılığı 1/6 yani 0,1666'dır. Yukarıdaki fonksiyonda fonksiyona gönderilen n değeri kadar zar atma işlemi yapılıyor.\n",
    "Daha sonra bu n değeri kadar zar atma işlemi esnasında kaç defa 1 ve 4 geldiği sayılıyor.\n",
    "zarın 1 ve 4 geldiği durum sayıları ayrı ayrı olarak toplam zar atma sayısına bölünüyor.\n",
    "Sonuç olarak 1/6 ya yakın değerlere ulaşılıyor."
   ]
  },
  {
   "cell_type": "code",
   "execution_count": 88,
   "id": "removed-retreat",
   "metadata": {
    "tags": []
   },
   "outputs": [],
   "source": [
    "def my_f_5(p=True,n=10):\n",
    "\n",
    "    b_number=0\n",
    "    w_number=0 \n",
    "    \n",
    "    for i in range(n):\n",
    "        c_1=['black','black']\n",
    "        c_2=['white','black']\n",
    "        c_3=['white','white']\n",
    "        cards=[c_1,c_2,c_3]\n",
    "        select_card=random.choice(cards) # select_card değişkenine 3 karttan random olarak herhangi birini tanımlıyoruz.\n",
    "        if p:\n",
    "            print(select_card,end=\" \") #tanımlanan kartı ekrana yazdırıyoruz\n",
    "\n",
    "        select_face=random.choice(select_card) #select_face değişkenine seçilen kartın random olarak herhangi bir rengini ÖnYüz olarak tanımlıyoruz.\n",
    "\n",
    "        select_card.remove(select_face) #select_card değişkeninden ÖnYüz olarak seçilen kart rengini çıkartıyoruz. Böylece bu değişkende kartın bilinmeyen yani ArkaYüzü kalıyor.\n",
    "        unseen_face=select_card[0] #kartın bilinmeyen yani ArkaYüzünü unseen_face değişkenine tanımlıyoruz\n",
    "        if p:\n",
    "            print(\"ÖnYüz:\",select_face,\" ArkaYüz:\",unseen_face,end=\" \") # kartın görünen yüzünü yani ÖnYüzünü(select_face) ve görünmeyen yüzünü yani ArkaYüzünü(unseen_face) yazdırıyoruz.\n",
    "\n",
    "\n",
    "        if select_face=='black': #kartın görünen yani ÖnYüzü black ise aşağıdaki işlemi gerçekleştirir.\n",
    "            b_number=b_number+1\n",
    "            if p:\n",
    "                print(\"        +\",end=\" \")\n",
    "            if unseen_face=='white': #kartın görünen yani ÖnYüzü black ve görünmeyen yani ArkaYüzü white ise aşağıdaki işlemi gerçekleştirir\n",
    "                w_number=w_number+1\n",
    "                if p:\n",
    "                    print(\"+\",end=\" \")\n",
    "            if p:\n",
    "                print()\n",
    "        else:\n",
    "            if p:\n",
    "                print()\n",
    "    \n",
    "    return n,b_number,w_number\n",
    "\n",
    "\n"
   ]
  },
  {
   "cell_type": "markdown",
   "id": "hazardous-transition",
   "metadata": {},
   "source": [
    "Çekilen kartın görünen yüzünün siyah ve görünmeyen yüzünün de beyaz olma ihtimali üzerine hazırlanan yukarıdaki fonksiyon da siyah-beyaz,beyaz-beyaz ve siyah-siyah olan 3 karttan random seçim yapılıyor.\n",
    "Seçilen kartın görünen yüzünün siyah olduğu durumlar üzerinden ilerlenerek bu durumlar ve görünen yüzünün siyah ve görünmeyen yüzünün beyaz olduğu durumlar bir değişken sayesinde toplanıyor.\n",
    "Fonksiyonda yer alan p değişkeninin True-False olma durumuna göre bu seçilen kart isimleri ekrana yazdırılıyor.\n",
    "Fonksiyon sonlandığında geriye kaç defa bu işlemi yaptığı , kaç defa görünen yüzünün siyah olduğu ve kaç defa görünmeyen yüzünün beyaz geldiği döndürülüyor"
   ]
  },
  {
   "cell_type": "code",
   "execution_count": 108,
   "id": "found-founder",
   "metadata": {},
   "outputs": [],
   "source": [
    "def my_f_6():\n",
    "    seen_face_number=0\n",
    "    unseen_face_number=0\n",
    "    n=100\n",
    "    for i in range(n):\n",
    "        n,b_number,w_number=my_f_5(False,n) #my_f_5 fonkisyonu , fonksiyon içinde yer alan tekrarı n defa olacak şekilde değer gönderiliyor. Buradan dönen değerler eşitliğin sol tarafindaki değişkenlere atanıyor\n",
    "        seen_face_number=seen_face_number+b_number # Döngü sonucu defalarca yapılan işlemlerin hepsinde Kartın görünen yüzünün siyah olduğu durumlar toplanıyor.\n",
    "        unseen_face_number=unseen_face_number+w_number # Döngü sonucu defalarca yapılan işlemlerin hepsinde Kartın görünen yüzünün siyah ve görünmeyen yüzünün beyaz olduğu durumlar toplanıyor.\n",
    "\n",
    "    return int(seen_face_number/n),int(unseen_face_number/n)"
   ]
  },
  {
   "cell_type": "markdown",
   "id": "broken-session",
   "metadata": {},
   "source": [
    "my_f_6 fonksiyonu ile  my_f_5 fonksiyonuna n değeri gönderilerek my_f_5 fonksiyonu ile kart seçme işlemi n defa yaptırılıyor. \n",
    "Daha sonra bu tüm işlemler sonucu görünen yüzünün siyah ve görünmeyen yüzünün beyaz geldiği durumlar değişkenler sayesinde toplaranarak fonksiyona görünen yüz/işlem sayısı ve Görünmeyen / işlem sayısı\n",
    "olarak geri döndürülüyor."
   ]
  },
  {
   "cell_type": "code",
   "execution_count": 114,
   "id": "rapid-movie",
   "metadata": {},
   "outputs": [
    {
     "name": "stdout",
     "output_type": "stream",
     "text": [
      "(49, 16)\n",
      "(49, 16)\n",
      "(50, 16)\n",
      "(48, 16)\n",
      "(50, 16)\n",
      "(49, 16)\n",
      "(49, 16)\n",
      "(49, 16)\n",
      "(50, 17)\n",
      "(50, 16)\n"
     ]
    }
   ],
   "source": [
    "for i in range(10): # my_f6() fonksiyonun kaç defa tekrarlanacağını bu döngü ile belirtiyoruz.\n",
    "    print(my_f_6())"
   ]
  },
  {
   "cell_type": "code",
   "execution_count": null,
   "id": "searching-symposium",
   "metadata": {},
   "outputs": [],
   "source": []
  }
 ],
 "metadata": {
  "kernelspec": {
   "display_name": "Python 3",
   "language": "python",
   "name": "python3"
  },
  "language_info": {
   "codemirror_mode": {
    "name": "ipython",
    "version": 3
   },
   "file_extension": ".py",
   "mimetype": "text/x-python",
   "name": "python",
   "nbconvert_exporter": "python",
   "pygments_lexer": "ipython3",
   "version": "3.9.0"
  }
 },
 "nbformat": 4,
 "nbformat_minor": 5
}
