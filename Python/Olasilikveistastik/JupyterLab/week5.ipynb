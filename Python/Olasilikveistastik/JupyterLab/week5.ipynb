{
 "cells": [
  {
   "cell_type": "code",
   "execution_count": 22,
   "id": "severe-hammer",
   "metadata": {
    "scrolled": true,
    "tags": []
   },
   "outputs": [],
   "source": [
    "def permutation(lst=[1,2,3]): # gelen liste boş ise list=[1,2,3] değerini atar.\n",
    "    result=[]\n",
    "    if len(lst)==0: # liste boş ise geriye boş liste döndürür. Burası fonksiyona boş liste gelirse çalışır.\n",
    "        return []\n",
    "    if len(lst)==1:  # listede 1 eleman var ise geriye listeyi döndürür. Burası fonksiyona boş liste gelirse çalışır fakat recursive özelliğini sonlandırmak için de kullanılır.\n",
    "        return [lst]\n",
    "    # lst\n",
    "    for i in range(len(lst)): # i den başlayarak listenin eleman sayısı kadar dönen döngü\n",
    "        m=lst[i] # m değişkenine listenin i inci elemanı atanır.\n",
    "        remLst=lst[:i]+lst[i+1:]  # Böylece i inci eleman listeden çıkarılmış olur  \n",
    "        \n",
    "        for p in permutation(remLst): # listten 1 çıkartıldığında   \n",
    "            result.append([m]+p)\n",
    "\n",
    "    return result    \n",
    "        "
   ]
  },
  {
   "cell_type": "markdown",
   "id": "lonely-philippines",
   "metadata": {},
   "source": [
    "Yukarıda ki işlemde permutation fonksiyonuna gönderilen liste içerisindeki elemanları sıralı bir şekilde yazılma işlemi gerçekleştirir.bu fonksiyon recorsive fonksiyondur. \n",
    "örnek olarak liste[1,2,3] elemanları gönderilir. fonksiyon içerisinde yer alan for değişkeni 3 defa dönecektir.\n",
    "1-1)for i in range(len(lst)) burada ki len(lst)=3 tür ve i 0 dan başlar.\n",
    "for döngüsü içerisinde m değişkenine listenin i. elemanı atanır. aynı zamanda listeden i inci eleman çıkarılarak yeni liste 2. for döngüsüne gönderilir.\n",
    "2)for p in permutation(remLst): bu for döngüsü döngüye girmeden önce fonksiyona remlst değişkenini gönderir. buradan yeni for döngüsüne girilir ve fonksiyona göndreilen liste tek elemanlı olana kadar recursive devam eder.\n",
    "Örnek olark remlst içerisine listenin [2,3] elemanları atanır. daha sonra başa dönerek liste [2,3] olur.\n",
    "buradan fonksiyona tek eleman döndürülene fonksiyon tekrarlanır ve en sonunda result değişkeninde [[2, 3], [3, 2]] değerleri yer alır\n",
    "bu değerler ilk çağrılan recursive fonksiyona gönderilir. p değeri [2,3] ya da [3,2] değerini alabilir. buradan result.append içine m=1 olduğu için bu değerler eklenir ve result= [[1, 2, 3], [1, 3, 2]] eşit olur.Aşağıdan devam eder\n",
    "1-2)for i in range(len(lst)) burada ki i=1 olur. ve yukarıda belirtilen işlemler tekrarlanır. en son fonksiyona tek eleman gönderildiğinde fonksiyon sonlanır. \n",
    "result değişkeninde [[1, 2, 3], [1, 3, 2], [2, 1, 3], [2, 3, 1]] elemanları yer alır\n",
    "1-3)for i in range(len(lst)) burada i=2 olur ve for döngüsünün sonlanacağı işleme geçer. Yukarıda 1-1) de anlatılan işlemler tekrarlanır ve en son olarak result değişkeni tamamlanmış olur.\n",
    "result [[1, 2, 3], [1, 3, 2], [2, 1, 3], [2, 3, 1], [3, 1, 2], [3, 2, 1]] olur ve son olarak bu fonksiyon çağrıldığı yere result u gönderir.\n"
   ]
  },
  {
   "cell_type": "code",
   "execution_count": 23,
   "id": "forward-riverside",
   "metadata": {},
   "outputs": [
    {
     "data": {
      "text/plain": [
       "([[1, 2, 3], [1, 3, 2], [2, 1, 3], [2, 3, 1], [3, 1, 2], [3, 2, 1]], 6)"
      ]
     },
     "execution_count": 23,
     "metadata": {},
     "output_type": "execute_result"
    }
   ],
   "source": [
    "s=permutation()\n",
    "s,len(s)"
   ]
  },
  {
   "cell_type": "code",
   "execution_count": 24,
   "id": "assured-special",
   "metadata": {},
   "outputs": [
    {
     "data": {
      "text/plain": [
       "(3, [1, 2])"
      ]
     },
     "execution_count": 24,
     "metadata": {},
     "output_type": "execute_result"
    }
   ],
   "source": [
    "lst=[1,2,3]\n",
    "i=2\n",
    "m=lst[i]\n",
    "remLst=lst[:i]+lst[i+1:]\n",
    "m,remLst"
   ]
  },
  {
   "cell_type": "markdown",
   "id": "familiar-strip",
   "metadata": {},
   "source": [
    "yukarıda listede bulunan 2. eleman çıkarılarak remliste eklenir ve ekrana yazdılır."
   ]
  },
  {
   "cell_type": "code",
   "execution_count": null,
   "id": "tribal-insert",
   "metadata": {},
   "outputs": [],
   "source": []
  }
 ],
 "metadata": {
  "kernelspec": {
   "display_name": "Python 3",
   "language": "python",
   "name": "python3"
  },
  "language_info": {
   "codemirror_mode": {
    "name": "ipython",
    "version": 3
   },
   "file_extension": ".py",
   "mimetype": "text/x-python",
   "name": "python",
   "nbconvert_exporter": "python",
   "pygments_lexer": "ipython3",
   "version": "3.9.0"
  }
 },
 "nbformat": 4,
 "nbformat_minor": 5
}
